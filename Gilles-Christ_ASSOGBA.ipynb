{
 "cells": [
  {
   "cell_type": "markdown",
   "metadata": {},
   "source": [
    "# Analyse de sentiment"
   ]
  },
  {
   "cell_type": "markdown",
   "metadata": {},
   "source": [
    "# TP 01-01"
   ]
  },
  {
   "cell_type": "markdown",
   "metadata": {},
   "source": [
    "Importation des bibliothèques nécessaires"
   ]
  },
  {
   "cell_type": "code",
   "execution_count": 1,
   "metadata": {},
   "outputs": [],
   "source": [
    "import pandas as pd\n",
    "import matplotlib.pyplot as plt"
   ]
  },
  {
   "cell_type": "markdown",
   "metadata": {},
   "source": [
    "Chargement et affichage de notre ensemble de données"
   ]
  },
  {
   "cell_type": "code",
   "execution_count": 2,
   "metadata": {},
   "outputs": [
    {
     "data": {
      "text/html": [
       "<div>\n",
       "<style scoped>\n",
       "    .dataframe tbody tr th:only-of-type {\n",
       "        vertical-align: middle;\n",
       "    }\n",
       "\n",
       "    .dataframe tbody tr th {\n",
       "        vertical-align: top;\n",
       "    }\n",
       "\n",
       "    .dataframe thead th {\n",
       "        text-align: right;\n",
       "    }\n",
       "</style>\n",
       "<table border=\"1\" class=\"dataframe\">\n",
       "  <thead>\n",
       "    <tr style=\"text-align: right;\">\n",
       "      <th></th>\n",
       "      <th>review</th>\n",
       "      <th>sentiment</th>\n",
       "    </tr>\n",
       "  </thead>\n",
       "  <tbody>\n",
       "    <tr>\n",
       "      <th>0</th>\n",
       "      <td>One of the other reviewers has mentioned that ...</td>\n",
       "      <td>positive</td>\n",
       "    </tr>\n",
       "    <tr>\n",
       "      <th>1</th>\n",
       "      <td>A wonderful little production. &lt;br /&gt;&lt;br /&gt;The...</td>\n",
       "      <td>positive</td>\n",
       "    </tr>\n",
       "    <tr>\n",
       "      <th>2</th>\n",
       "      <td>I thought this was a wonderful way to spend ti...</td>\n",
       "      <td>positive</td>\n",
       "    </tr>\n",
       "    <tr>\n",
       "      <th>3</th>\n",
       "      <td>Basically there's a family where a little boy ...</td>\n",
       "      <td>negative</td>\n",
       "    </tr>\n",
       "    <tr>\n",
       "      <th>4</th>\n",
       "      <td>Petter Mattei's \"Love in the Time of Money\" is...</td>\n",
       "      <td>positive</td>\n",
       "    </tr>\n",
       "    <tr>\n",
       "      <th>...</th>\n",
       "      <td>...</td>\n",
       "      <td>...</td>\n",
       "    </tr>\n",
       "    <tr>\n",
       "      <th>49995</th>\n",
       "      <td>I thought this movie did a down right good job...</td>\n",
       "      <td>positive</td>\n",
       "    </tr>\n",
       "    <tr>\n",
       "      <th>49996</th>\n",
       "      <td>Bad plot, bad dialogue, bad acting, idiotic di...</td>\n",
       "      <td>negative</td>\n",
       "    </tr>\n",
       "    <tr>\n",
       "      <th>49997</th>\n",
       "      <td>I am a Catholic taught in parochial elementary...</td>\n",
       "      <td>negative</td>\n",
       "    </tr>\n",
       "    <tr>\n",
       "      <th>49998</th>\n",
       "      <td>I'm going to have to disagree with the previou...</td>\n",
       "      <td>negative</td>\n",
       "    </tr>\n",
       "    <tr>\n",
       "      <th>49999</th>\n",
       "      <td>No one expects the Star Trek movies to be high...</td>\n",
       "      <td>negative</td>\n",
       "    </tr>\n",
       "  </tbody>\n",
       "</table>\n",
       "<p>50000 rows × 2 columns</p>\n",
       "</div>"
      ],
      "text/plain": [
       "                                                  review sentiment\n",
       "0      One of the other reviewers has mentioned that ...  positive\n",
       "1      A wonderful little production. <br /><br />The...  positive\n",
       "2      I thought this was a wonderful way to spend ti...  positive\n",
       "3      Basically there's a family where a little boy ...  negative\n",
       "4      Petter Mattei's \"Love in the Time of Money\" is...  positive\n",
       "...                                                  ...       ...\n",
       "49995  I thought this movie did a down right good job...  positive\n",
       "49996  Bad plot, bad dialogue, bad acting, idiotic di...  negative\n",
       "49997  I am a Catholic taught in parochial elementary...  negative\n",
       "49998  I'm going to have to disagree with the previou...  negative\n",
       "49999  No one expects the Star Trek movies to be high...  negative\n",
       "\n",
       "[50000 rows x 2 columns]"
      ]
     },
     "execution_count": 2,
     "metadata": {},
     "output_type": "execute_result"
    }
   ],
   "source": [
    "df=pd.read_csv('IMDB Dataset.csv')\n",
    "df"
   ]
  },
  {
   "cell_type": "markdown",
   "metadata": {},
   "source": [
    "### 1-) Trouvons le nombre d’avis positifs et négatifs dans le jet de données"
   ]
  },
  {
   "cell_type": "markdown",
   "metadata": {},
   "source": [
    "Définissons une fonction \"nombres_avis\" qui prenda en entrée notre jet de données et retournera le nombre d'avis positifs et négatifs dans la colonne \"sentiment\""
   ]
  },
  {
   "cell_type": "code",
   "execution_count": 5,
   "metadata": {},
   "outputs": [],
   "source": [
    "def nombres_avis(df):\n",
    "    return df['sentiment'].value_counts()"
   ]
  },
  {
   "cell_type": "markdown",
   "metadata": {},
   "source": [
    "Application de la fonction sur notre jet de données"
   ]
  },
  {
   "cell_type": "code",
   "execution_count": 6,
   "metadata": {},
   "outputs": [
    {
     "data": {
      "text/plain": [
       "sentiment\n",
       "positive    25000\n",
       "negative    25000\n",
       "Name: count, dtype: int64"
      ]
     },
     "execution_count": 6,
     "metadata": {},
     "output_type": "execute_result"
    }
   ],
   "source": [
    "nombres_avis(df)"
   ]
  },
  {
   "cell_type": "markdown",
   "metadata": {},
   "source": [
    "#### Conclusion: Nous avons 25000 avis positifs et 25000 avis négatifs dans notre jet de données"
   ]
  },
  {
   "cell_type": "markdown",
   "metadata": {},
   "source": [
    "### 2-) Trouvons la proportion (pourcentage) d’avis positifs et négatifs dans l’ensemble de données"
   ]
  },
  {
   "cell_type": "markdown",
   "metadata": {},
   "source": [
    "A l'aide d'un diagramme circulaire nous allons visualiser la proportion d'avis positifs et négatifs dans notre jet données"
   ]
  },
  {
   "cell_type": "code",
   "execution_count": 7,
   "metadata": {},
   "outputs": [
    {
     "data": {
      "image/png": "[encoded data removed]",
      "text/plain": [
       "<Figure size 640x480 with 1 Axes>"
      ]
     },
     "metadata": {},
     "output_type": "display_data"
    }
   ],
   "source": [
    "sentiment1 = ['sentiment']\n",
    "for i in sentiment1:\n",
    "    df[i].value_counts().plot.pie(autopct = '%1.1f%%')\n",
    "    plt.title(f\"Diagramme Circulaire de la proportion d'avis positifs et négatifs dans l'ensemble de données {i}\")\n",
    "    plt.ylabel('')\n",
    "    plt.show()"
   ]
  },
  {
   "cell_type": "markdown",
   "metadata": {},
   "source": [
    "#### Interprétation:On peut observer que notre jet de données contient 50% d'avis positifs et 50% d'avis négatifs.Ce qui confirme le nombres d'avis positifs et négatifs trouver précedemment"
   ]
  },
  {
   "cell_type": "markdown",
   "metadata": {},
   "source": [
    "### 3-)Trouvons la longueur de l’avis le plus long"
   ]
  },
  {
   "cell_type": "markdown",
   "metadata": {},
   "source": [
    " Définissons une fonction \"avis_long\" qui prenda en entrée notre jet de données et retournera la valeur maximale  parmis les les longueurs de chaque chaîne de caractères dans la colonne \"review\" sans les différentes ponctuations"
   ]
  },
  {
   "cell_type": "code",
   "execution_count": 8,
   "metadata": {},
   "outputs": [],
   "source": [
    "def avis_long(df):\n",
    "    return df['review'].str.len().max()"
   ]
  },
  {
   "cell_type": "markdown",
   "metadata": {},
   "source": [
    "Affichage de la longueur de l'avis le plus long"
   ]
  },
  {
   "cell_type": "code",
   "execution_count": 9,
   "metadata": {},
   "outputs": [
    {
     "name": "stdout",
     "output_type": "stream",
     "text": [
      "La longueur de l'avis le plus long est : 13704\n"
     ]
    }
   ],
   "source": [
    "print(\"La longueur de l'avis le plus long est :\",avis_long (df))"
   ]
  },
  {
   "cell_type": "markdown",
   "metadata": {},
   "source": [
    "### 4-) Trouvons la critique la plus courte\n"
   ]
  },
  {
   "cell_type": "markdown",
   "metadata": {},
   "source": [
    "Définissons une fonction \"critique_courte\" qui prenda en entrée notre jet de données et retournera la critique  la plus courte "
   ]
  },
  {
   "cell_type": "code",
   "execution_count": 10,
   "metadata": {},
   "outputs": [],
   "source": [
    "def critique_courte(df):\n",
    "    return df.loc[df['review'].str.len().idxmin(), 'review']"
   ]
  },
  {
   "cell_type": "markdown",
   "metadata": {},
   "source": [
    "Affichage de la critique la plus courte"
   ]
  },
  {
   "cell_type": "code",
   "execution_count": 11,
   "metadata": {},
   "outputs": [
    {
     "name": "stdout",
     "output_type": "stream",
     "text": [
      "La critique la plus courte est: Read the book, forget the movie!\n"
     ]
    }
   ],
   "source": [
    "print(\"La critique la plus courte est:\", critique_courte(df))"
   ]
  },
  {
   "cell_type": "markdown",
   "metadata": {},
   "source": [
    "# TP 01-02"
   ]
  },
  {
   "cell_type": "markdown",
   "metadata": {},
   "source": [
    "### 1-) Choix d'une phrase dans le jet de données"
   ]
  },
  {
   "cell_type": "markdown",
   "metadata": {},
   "source": [
    "Définissons une fonction \"phrase_hasard\" qui prenda en entrée notre jet de données et retournera un avis choisi au hasard dans la colonne \"review\""
   ]
  },
  {
   "cell_type": "code",
   "execution_count": 12,
   "metadata": {},
   "outputs": [],
   "source": [
    "def phrase_hasard(df):\n",
    "    random_review = df.sample(1)[\"review\"].values[0]\n",
    "    return random_review"
   ]
  },
  {
   "cell_type": "markdown",
   "metadata": {},
   "source": [
    "Affichage de la phrase choisi par l'algo"
   ]
  },
  {
   "cell_type": "code",
   "execution_count": 59,
   "metadata": {},
   "outputs": [
    {
     "data": {
      "text/plain": [
       "\"Talk about over acting...!!!! not just by Govinda, but also by Salman and Lara....The direction was awful. The first half hour you would pretty much want to switch the movie off..because this movie is a real stinker (mark my words. <br /><br />I liked Govinda in some o his comedy roles like Haseena Maan Jaayegi, Jodi No. 1, Akhiyon se Goli Maare and Jis Desh Mein Ganga Rehta Hai and this does not compare to any of them. And Salman Khan should not do comedy roles at all!! He sucks. He does not know how to do comedy. The only good comedy role he did was in Andaz Apna Apna, which was brilliant next to Amir Khan. <br /><br />There were so many 'overly done stupidly unfunny' scenes in this movie that make you want to take out the DVD and burn it so no one else in your house watches it ever again.\""
      ]
     },
     "execution_count": 59,
     "metadata": {},
     "output_type": "execute_result"
    }
   ],
   "source": [
    "avis1=phrase_hasard(df)\n",
    "avis1"
   ]
  },
  {
   "cell_type": "markdown",
   "metadata": {},
   "source": [
    "### 2-) Calcul de la polarité et la subjectivité de cette phase"
   ]
  },
  {
   "cell_type": "code",
   "execution_count": 14,
   "metadata": {},
   "outputs": [
    {
     "name": "stdout",
     "output_type": "stream",
     "text": [
      "Requirement already satisfied: textblob in c:\\users\\hp\\anaconda3\\lib\\site-packages (0.19.0)\n",
      "Requirement already satisfied: nltk>=3.9 in c:\\users\\hp\\anaconda3\\lib\\site-packages (from textblob) (3.9.1)\n",
      "Requirement already satisfied: click in c:\\users\\hp\\anaconda3\\lib\\site-packages (from nltk>=3.9->textblob) (8.0.4)\n",
      "Requirement already satisfied: joblib in c:\\users\\hp\\anaconda3\\lib\\site-packages (from nltk>=3.9->textblob) (1.2.0)\n",
      "Requirement already satisfied: regex>=2021.8.3 in c:\\users\\hp\\anaconda3\\lib\\site-packages (from nltk>=3.9->textblob) (2022.7.9)\n",
      "Requirement already satisfied: tqdm in c:\\users\\hp\\anaconda3\\lib\\site-packages (from nltk>=3.9->textblob) (4.65.0)\n",
      "Requirement already satisfied: colorama in c:\\users\\hp\\anaconda3\\lib\\site-packages (from click->nltk>=3.9->textblob) (0.4.6)\n"
     ]
    }
   ],
   "source": [
    "#Importation de la bibliothèque texblob pour les traitement sur notre phrase\n",
    "!pip install textblob"
   ]
  },
  {
   "cell_type": "code",
   "execution_count": 15,
   "metadata": {},
   "outputs": [],
   "source": [
    "from textblob import TextBlob"
   ]
  },
  {
   "cell_type": "markdown",
   "metadata": {},
   "source": [
    "Calcul et affichage de la subjectivité de notre phrase"
   ]
  },
  {
   "cell_type": "code",
   "execution_count": 60,
   "metadata": {},
   "outputs": [
    {
     "name": "stdout",
     "output_type": "stream",
     "text": [
      "La Subjectivité de la phrase est: 0.5866666666666667\n"
     ]
    }
   ],
   "source": [
    "blob= TextBlob(avis1)\n",
    "# Obtenir la subjectivité\n",
    "subjectivité = blob.sentiment.subjectivity\n",
    "print(f\"La Subjectivité de la phrase est: {subjectivité}\")"
   ]
  },
  {
   "cell_type": "markdown",
   "metadata": {},
   "source": [
    "#### Interprétation: Plus la valeur se rapproche de 0 plus notre phrase est objectif et plus elle se rapproche de 1 plus elle est subjectif. Dans le cas de notre phrase on peut dire que notre phrase est légèrement subjective car la valeur trouvé est plus proche de 1 que de 0 (0.586). Notre phrase contient donc à la fois des faits et des opinions "
   ]
  },
  {
   "cell_type": "markdown",
   "metadata": {},
   "source": [
    "Calcul et affichage de la polarité de notre phrase"
   ]
  },
  {
   "cell_type": "code",
   "execution_count": 61,
   "metadata": {},
   "outputs": [
    {
     "name": "stdout",
     "output_type": "stream",
     "text": [
      "La Polarité de la phrase est: 0.04805555555555557\n"
     ]
    }
   ],
   "source": [
    "blob2 = TextBlob(avis1)\n",
    "polarité = blob.sentiment.polarity\n",
    "print(f\"La Polarité de la phrase est: {polarité}\")"
   ]
  },
  {
   "cell_type": "markdown",
   "metadata": {},
   "source": [
    "#### Interprétation: La valeur de la polarité de notre phrase est 0.048 qui est un score plus proche de 0(Texte neutre).Cet avis peut donc correspondre à une personne ayant un avis neutre sur le film (ni négatif, ni positif)"
   ]
  },
  {
   "cell_type": "markdown",
   "metadata": {},
   "source": [
    "# TP 01-03"
   ]
  },
  {
   "cell_type": "markdown",
   "metadata": {},
   "source": [
    "## 1-) Choix de 100 meilleures critiques positives"
   ]
  },
  {
   "cell_type": "markdown",
   "metadata": {},
   "source": [
    "Définissons une fonction \"sentiment_score\" pour le calcul de la polarité de chaque critique "
   ]
  },
  {
   "cell_type": "code",
   "execution_count": 62,
   "metadata": {},
   "outputs": [],
   "source": [
    "def sentiment_score(text):\n",
    "    return TextBlob(text).sentiment.polarity  "
   ]
  },
  {
   "cell_type": "markdown",
   "metadata": {},
   "source": [
    "Filtrons uniquement les avis positifs"
   ]
  },
  {
   "cell_type": "code",
   "execution_count": 63,
   "metadata": {},
   "outputs": [],
   "source": [
    "df_positive = df[df['sentiment'] == \"positive\"].copy()"
   ]
  },
  {
   "cell_type": "markdown",
   "metadata": {},
   "source": [
    "Calculons la polarité et la longueur de chaque critique"
   ]
  },
  {
   "cell_type": "code",
   "execution_count": 64,
   "metadata": {},
   "outputs": [],
   "source": [
    "df_positive['sentiment_score'] = df_positive['review'].apply(sentiment_score)\n",
    "df_positive['length'] = df_positive['review'].str.len()"
   ]
  },
  {
   "cell_type": "markdown",
   "metadata": {},
   "source": [
    "Trions les critique d'abord par la polarité, puis par longueur (si il y a égalité de polarité entre plusieurs critiques on trie par la longueur)"
   ]
  },
  {
   "cell_type": "code",
   "execution_count": 65,
   "metadata": {},
   "outputs": [],
   "source": [
    "df_trie = df_positive.sort_values(by=['sentiment_score', 'length'], ascending=[False, False])"
   ]
  },
  {
   "cell_type": "markdown",
   "metadata": {},
   "source": [
    " Sélection des 100 meilleures critiques positives"
   ]
  },
  {
   "cell_type": "code",
   "execution_count": 66,
   "metadata": {},
   "outputs": [],
   "source": [
    "df_top_100 = df_trie.head(100)"
   ]
  },
  {
   "cell_type": "markdown",
   "metadata": {},
   "source": [
    "Affichage des 100 mailleures critiques positives choisis"
   ]
  },
  {
   "cell_type": "code",
   "execution_count": 67,
   "metadata": {},
   "outputs": [
    {
     "data": {
      "text/html": [
       "<div>\n",
       "<style scoped>\n",
       "    .dataframe tbody tr th:only-of-type {\n",
       "        vertical-align: middle;\n",
       "    }\n",
       "\n",
       "    .dataframe tbody tr th {\n",
       "        vertical-align: top;\n",
       "    }\n",
       "\n",
       "    .dataframe thead th {\n",
       "        text-align: right;\n",
       "    }\n",
       "</style>\n",
       "<table border=\"1\" class=\"dataframe\">\n",
       "  <thead>\n",
       "    <tr style=\"text-align: right;\">\n",
       "      <th></th>\n",
       "      <th>review</th>\n",
       "      <th>sentiment</th>\n",
       "      <th>sentiment_score</th>\n",
       "      <th>length</th>\n",
       "    </tr>\n",
       "  </thead>\n",
       "  <tbody>\n",
       "    <tr>\n",
       "      <th>39182</th>\n",
       "      <td>Smallville episode Justice is the best episode...</td>\n",
       "      <td>positive</td>\n",
       "      <td>1.000000</td>\n",
       "      <td>662</td>\n",
       "    </tr>\n",
       "    <tr>\n",
       "      <th>48927</th>\n",
       "      <td>Smallville episode Justice is the best episode...</td>\n",
       "      <td>positive</td>\n",
       "      <td>1.000000</td>\n",
       "      <td>662</td>\n",
       "    </tr>\n",
       "    <tr>\n",
       "      <th>1440</th>\n",
       "      <td>This was one of my favorites as a child. My fa...</td>\n",
       "      <td>positive</td>\n",
       "      <td>1.000000</td>\n",
       "      <td>344</td>\n",
       "    </tr>\n",
       "    <tr>\n",
       "      <th>36227</th>\n",
       "      <td>Sjöströms masterpiece and a movie that capture...</td>\n",
       "      <td>positive</td>\n",
       "      <td>1.000000</td>\n",
       "      <td>281</td>\n",
       "    </tr>\n",
       "    <tr>\n",
       "      <th>33502</th>\n",
       "      <td>John has made two One man shows. Spic O Rama a...</td>\n",
       "      <td>positive</td>\n",
       "      <td>1.000000</td>\n",
       "      <td>250</td>\n",
       "    </tr>\n",
       "    <tr>\n",
       "      <th>...</th>\n",
       "      <td>...</td>\n",
       "      <td>...</td>\n",
       "      <td>...</td>\n",
       "      <td>...</td>\n",
       "    </tr>\n",
       "    <tr>\n",
       "      <th>15384</th>\n",
       "      <td>Bette Midler showcases her talents and beauty ...</td>\n",
       "      <td>positive</td>\n",
       "      <td>0.637500</td>\n",
       "      <td>585</td>\n",
       "    </tr>\n",
       "    <tr>\n",
       "      <th>36417</th>\n",
       "      <td>Bette Midler showcases her talents and beauty ...</td>\n",
       "      <td>positive</td>\n",
       "      <td>0.637500</td>\n",
       "      <td>585</td>\n",
       "    </tr>\n",
       "    <tr>\n",
       "      <th>42311</th>\n",
       "      <td>Thsi is one great movie. probably the best mov...</td>\n",
       "      <td>positive</td>\n",
       "      <td>0.636667</td>\n",
       "      <td>734</td>\n",
       "    </tr>\n",
       "    <tr>\n",
       "      <th>21891</th>\n",
       "      <td>A very engaging, intelligent, and well-made fi...</td>\n",
       "      <td>positive</td>\n",
       "      <td>0.636667</td>\n",
       "      <td>241</td>\n",
       "    </tr>\n",
       "    <tr>\n",
       "      <th>17389</th>\n",
       "      <td>This film to me is a very good film!!&lt;br /&gt;&lt;br...</td>\n",
       "      <td>positive</td>\n",
       "      <td>0.636667</td>\n",
       "      <td>275</td>\n",
       "    </tr>\n",
       "  </tbody>\n",
       "</table>\n",
       "<p>100 rows × 4 columns</p>\n",
       "</div>"
      ],
      "text/plain": [
       "                                                  review sentiment  \\\n",
       "39182  Smallville episode Justice is the best episode...  positive   \n",
       "48927  Smallville episode Justice is the best episode...  positive   \n",
       "1440   This was one of my favorites as a child. My fa...  positive   \n",
       "36227  Sjöströms masterpiece and a movie that capture...  positive   \n",
       "33502  John has made two One man shows. Spic O Rama a...  positive   \n",
       "...                                                  ...       ...   \n",
       "15384  Bette Midler showcases her talents and beauty ...  positive   \n",
       "36417  Bette Midler showcases her talents and beauty ...  positive   \n",
       "42311  Thsi is one great movie. probably the best mov...  positive   \n",
       "21891  A very engaging, intelligent, and well-made fi...  positive   \n",
       "17389  This film to me is a very good film!!<br /><br...  positive   \n",
       "\n",
       "       sentiment_score  length  \n",
       "39182         1.000000     662  \n",
       "48927         1.000000     662  \n",
       "1440          1.000000     344  \n",
       "36227         1.000000     281  \n",
       "33502         1.000000     250  \n",
       "...                ...     ...  \n",
       "15384         0.637500     585  \n",
       "36417         0.637500     585  \n",
       "42311         0.636667     734  \n",
       "21891         0.636667     241  \n",
       "17389         0.636667     275  \n",
       "\n",
       "[100 rows x 4 columns]"
      ]
     },
     "execution_count": 67,
     "metadata": {},
     "output_type": "execute_result"
    }
   ],
   "source": [
    "df_top_100"
   ]
  },
  {
   "cell_type": "markdown",
   "metadata": {},
   "source": [
    "## 2-)Création du nuage de mots"
   ]
  },
  {
   "cell_type": "markdown",
   "metadata": {},
   "source": [
    "Installation de la bibliothèque \"wordcloud\" pour la création du nuage de mots"
   ]
  },
  {
   "cell_type": "code",
   "execution_count": 88,
   "metadata": {},
   "outputs": [
    {
     "name": "stdout",
     "output_type": "stream",
     "text": [
      "Requirement already satisfied: wordcloud in c:\\users\\hp\\anaconda3\\lib\\site-packages (1.9.4)\n",
      "Requirement already satisfied: numpy>=1.6.1 in c:\\users\\hp\\anaconda3\\lib\\site-packages (from wordcloud) (1.24.3)\n",
      "Requirement already satisfied: pillow in c:\\users\\hp\\anaconda3\\lib\\site-packages (from wordcloud) (10.3.0)\n",
      "Requirement already satisfied: matplotlib in c:\\users\\hp\\anaconda3\\lib\\site-packages (from wordcloud) (3.7.2)\n",
      "Requirement already satisfied: contourpy>=1.0.1 in c:\\users\\hp\\anaconda3\\lib\\site-packages (from matplotlib->wordcloud) (1.0.5)\n",
      "Requirement already satisfied: cycler>=0.10 in c:\\users\\hp\\anaconda3\\lib\\site-packages (from matplotlib->wordcloud) (0.11.0)\n",
      "Requirement already satisfied: fonttools>=4.22.0 in c:\\users\\hp\\anaconda3\\lib\\site-packages (from matplotlib->wordcloud) (4.25.0)\n",
      "Requirement already satisfied: kiwisolver>=1.0.1 in c:\\users\\hp\\anaconda3\\lib\\site-packages (from matplotlib->wordcloud) (1.4.4)\n",
      "Requirement already satisfied: packaging>=20.0 in c:\\users\\hp\\anaconda3\\lib\\site-packages (from matplotlib->wordcloud) (23.1)\n",
      "Requirement already satisfied: pyparsing<3.1,>=2.3.1 in c:\\users\\hp\\anaconda3\\lib\\site-packages (from matplotlib->wordcloud) (3.0.9)\n",
      "Requirement already satisfied: python-dateutil>=2.7 in c:\\users\\hp\\anaconda3\\lib\\site-packages (from matplotlib->wordcloud) (2.8.2)\n",
      "Requirement already satisfied: six>=1.5 in c:\\users\\hp\\anaconda3\\lib\\site-packages (from python-dateutil>=2.7->matplotlib->wordcloud) (1.16.0)\n"
     ]
    }
   ],
   "source": [
    "!pip install wordcloud \n"
   ]
  },
  {
   "cell_type": "markdown",
   "metadata": {},
   "source": [
    "Transformation des avis positives en un paragraphe"
   ]
  },
  {
   "cell_type": "code",
   "execution_count": 89,
   "metadata": {},
   "outputs": [
    {
     "data": {
      "text/plain": [
       "'Smallville episode Justice is the best episode of Smallville ! ! ! ! ! ! ! ! ! ! ! ! ! ! ! ! ! ! ! ! ! ! ! ! ! ! ! ! ! ! ! ! ! ! ! ! ! ! ! ! ! ! ! ! ! ! ! ! ! ! ! ! ! ! ! ! ! ! ! ! ! ! ! ! ! ! ! ! ! ! ! ! ! ! ! ! ! ! ! ! ! ! ! ! ! ! ! ! ! ! ! ! ! ! ! ! ! ! ! ! ! ! ! ! ! ! ! ! ! ! ! ! ! ! ! ! ! ! ! ! ! ! ! ! ! ! ! ! ! ! ! ! ! ! ! ! ! ! ! ! ! ! ! ! It\\'s my favorite episode of Smallville! ! ! ! ! ! ! ! ! ! ! ! ! ! ! ! ! ! ! ! ! ! ! ! ! ! ! ! ! ! ! ! ! ! ! ! ! ! ! ! ! ! ! ! ! ! ! ! ! ! ! ! ! ! ! ! ! ! ! ! ! ! ! ! ! ! ! ! ! ! ! ! ! ! ! ! ! ! ! ! ! ! ! ! ! ! ! ! ! ! ! ! ! ! ! ! ! ! ! ! ! ! ! ! ! ! ! ! ! ! ! ! ! ! ! ! ! ! ! ! ! ! ! ! ! ! ! ! ! ! ! ! ! ! ! ! ! ! Smallville episode Justice is the best episode of Smallville ! ! ! ! ! ! ! ! ! ! ! ! ! ! ! ! ! ! ! ! ! ! ! ! ! ! ! ! ! ! ! ! ! ! ! ! ! ! ! ! ! ! ! ! ! ! ! ! ! ! ! ! ! ! ! ! ! ! ! ! ! ! ! ! ! ! ! ! ! ! ! ! ! ! ! ! ! ! ! ! ! ! ! ! ! ! ! ! ! ! ! ! ! ! ! ! ! ! ! ! ! ! ! ! ! ! ! ! ! ! ! ! ! ! ! ! ! ! ! ! ! ! ! ! ! ! ! ! ! ! ! ! ! ! ! ! ! ! ! ! ! ! ! ! It\\'s my favorite episode of Smallville! ! ! ! ! ! ! ! ! ! ! ! ! ! ! ! ! ! ! ! ! ! ! ! ! ! ! ! ! ! ! ! ! ! ! ! ! ! ! ! ! ! ! ! ! ! ! ! ! ! ! ! ! ! ! ! ! ! ! ! ! ! ! ! ! ! ! ! ! ! ! ! ! ! ! ! ! ! ! ! ! ! ! ! ! ! ! ! ! ! ! ! ! ! ! ! ! ! ! ! ! ! ! ! ! ! ! ! ! ! ! ! ! ! ! ! ! ! ! ! ! ! ! ! ! ! ! ! ! ! ! ! ! ! ! ! ! ! This was one of my favorites as a child. My family had the 8-track tape soundtrack!! It took us years (until I was in my 20s) for us to get a video of the movie (my dad taped it from HBO or something). Every summer when we go to the beach (my mom, brother, sister and I) we lay on the beach and sing all the songs from this movie!!! LOVED IT!!! Sjöströms masterpiece and a movie that captures the swedish soul . It also served as a great inspiration for Bergman; the similarites between Körkarlen and Smultronstället (with Sjöström in the leading role as Isak Borg) from 1957 is not a coincidence. Don\\'t miss it for the world! John has made two One man shows. Spic O Rama and Freaks, and neither one has shown up on DVD... John!!! Why do you this to me john?? Put it on DvD John, so the people can see,they need to see John!! :D... Just in case anyones keeping a watchful aye!! This movie had me smiling from beginning to end, partly at the humor, partly at Meg Ryan (this is the perfect character for her), and always because it\\'s just one of the best feel-good movies I\\'ve seen. Hopefully the DVD will be out soon. I watched this film over a hundred times. It is really best Serbian movie made ever.I wood like to recommend this movie to everyone. It is very good comedy. I surely like it!!!! Brilliant and moving performances by Tom Courtenay and Peter Finch. I felt a great joy, after seeing this film, not because it is a master piece, but because it convinced me of, that the Portuguese cinema became really very good. We can see here the best Portuguese actores in this field. Melissa Joan Hart shines! This show is amazing!! There is no match. Except for maybe Melissa in Clarissa Explains it All. She was marvelous in that, too. This is SO much better than Buffy, the Vampire Slayer. This show is WONDERFUL! This movie is very good. The screenplay is enchanting. But Meryl Streep is most impressive. Her performance is excellent. She brings me to go into the heart of her role. This movie was so good. Leon Phelps is hilarious. I went out after and bought a case of Cognac!!!!! I went out after and bought a case of Cognac!!!!!I went out after and bought a case of Cognac!!!!!I went out after and bought a case of Cognac!!!!!I went out after and bought a case of Cognac!!!!!I went out after and bought a case of Cognac!!!!!I went out after and bought a case of Cognac!!!!!I went out after and bought a case of Cognac!!!!!I went out after and bought a case of Cognac!!!!!I went out after and bought a case of Cognac!!!!!I went out after and bought a case of Cognac!!!!!I went out after and bought a case of Cognac!!!!! Adrian Pasdar is excellent is this film. He makes a fascinating woman. \"The Color Purple\", is truly amazing. There is none like it, and I don\\'t think there ever will be. It\\'s a roller coster of emotion and pain that the viewer takes on. The actors are flawless and the directing is superb. I absolutely loved it. A movie has never made me so happy. It is beautiful, that\\'s the best way to explain it. This is a really great film in the pulp fiction genre with a touch of film noir thrown in. Truly one of Emma Thompson\\'s best performances to date...this film has everything, it\\'s well written, well directed, beautifully films, and has some great performances. I don\\'t know why it didn\\'t catch on. It\\'s spectacular! The biggest heroes, is one of the greatest movies ever. A good story, great actors and a brilliant ending is what makes this film the jumping start of the director Thomas Vinterberg\\'s great carrier. Rating \"10/10\" Master piece<br /><br />Some years ago, i heard Spielberg comment that he would redo the movie here and there if he had a chance. Well, Mr Spielberg, i guess nothing is perfect, but this movie - together with schindler\\'s List - is your best. Even Oprah acts well in this one !<br /><br />What got me most is the realism of the story and drama. Stuff like this happened and is still happening in the world. Great movie in a Trainspotting style... Being billed as the Welsh Trainspotting, but then so was Twin Town, although this is streets ahead.<br /><br />Takes in a weekend in the life of Cardiff Clubbers, good debut movie from Kerrigan and some great performances in the cast.<br /><br />Go see ! then go clubbing Captain Corelli\\'s Mandolin is a beautiful film with a lovely cast including the wonderful Nicolas Cage, who as always is brilliant in the movie. The music in the film is really nice too. I\\'d advise anyone to go and see it. Brilliant! 10/10 I, as a teenager really enjoyed this movie! Mary Kate and Ashley worked great together and everyone seemed so at ease. I thought the movie plot was very good and hope everyone else enjoys it to! Be sure and rent it!! Also they had some great soccer scenes for all those soccer players! :) This is one of Michael Jackson\\'s best music video\\'s ever made. Vincent Prices rap is totally cool and the zombies dancing with Michael is totally amazing! Michael Jackson is one of my favourite singers and he is one of the best singer\\'s in the world. Way to go Michael! What can I say, it\\'s a damn good movie. See it if you still haven\\'t. Great camera works and lighting techniques. Awesome, just awesome. Orson Welles is incredible \\'The Lady From Shanghai\\' can certainly take the place of \\'Citizen Kane\\'. John Leguizamo is a great comedian and storyteller. Every time this has been on HBO I\\'ve had to stop and watch it. John tells the story of how he grew up (probably some fact and fiction) and adds hilarious stories in the midst. If you like John\\'s comedy I would have to say this is probably his comedy at his best. Great movie, great actors, great soundtrack! I loved it! Settings are perfect, dialogues, situations, storyline... all together mixed to give this masterpiece! Clooney and Turturro are magnificent and the Soggy Bottom Boys are simply charming and contagious with their music! :) Shah rukh khan plays an obbsessed lover who would go to any lengths to get his lady. Juhi chawla does a wonderful job of making the best of her character and sunny deol plays the hero and action man. this film is very good and i\\'d reecommend it to anyone. This show was incredible!!! I\\'ve seen all three and this is the best. This movie has suspense,a bit of romance,stunts that will blow your mind (GO BOBBIE), great characters and amazing locations. Where was this filmed? Will there be more? I really liked the story line with her brother. Looking forward to Chameleon 4 and to see how the world is saved yet again. I had seen this movie before, but I could not remember it was this fantastic: it has a fun plot, Madonna fumbles around the city with pumas etc. causing a commotion. And the music is just perfect! And the happy ending! Who´s that girl is a great choice for a romanticist like me. In my opinion this could be even the best Madonna movie I have ever seen! 10/10 No one can argue with it. This IS and WILL BE the best movie ever, as it is the perfect definition of what any movie should be : a collective hypnosis beyond times. No movie can give you more perfectly this impression that you carried it inside you, even before you saw it for the first time.<br /><br />There are images that stay forever... This is one of t.v.\\'s greatest mini-series! It comes to life almost as well as the book did. Also the cast was outstanding to play the roles. I\\'d recommend this movie series for anyone who likes the Civil War or the history leading up to it. I´m from Germany and I love the mvovies. I go 200 times a year. Tonight I saw \"Pecker\", it was a wonderful evening. Thank you, Mr. Waters. Everybody who has a chance to see the movie, go!!! I think it\\'s one of the greatest movies which are ever made, and I\\'ve seen many... The book is better, but it\\'s still a very good movie! You got to go and dig those holes. Holes only leaves troble, which makes a movie so good. Disney has done it again.Shia LaBeouf should be nominated for Best Actor for his performance as Stanley Yelnats. He has alredy won the Daytime Emmy for Best Actor in a Comedy Series (Even Stevens). Holes is one of the best movies in 2003. WOW. One of the greatest movies I have EVER - EVER seen.<br /><br />Absolutely LOVED it! Before the opening credits were done I was glued to the screen.<br /><br />It\\'s a Sci-Fi thriller - AND edge of your seat Whodunnit. Incredible.<br /><br />I wish\\'d it would never end.<br /><br />Lucy Liu is a throwaway role. Anyone could have played it. The lead actor, Jeremy Northram was the perfect geeky guy. <br /><br />This movie appeals to me who loved War Games, Sneakers, and Track Down.<br /><br />Incredible!<br /><br />8-22-06. Walt D in LV This film is one of my fondest childhood memories. Seeing the Muppets (at the height of their popularity) heading Hollywood, singing and dancing, with Miss Piggy googely-eying her beloved Kermit, Fozzie Bear doing his best as everyone\\'s manager, and a generous cast of \"extras\" delivering a film that turned out to be \"okey dokey\".<br /><br />Kermit\\'s melancholy ukulele number \"Rainbow Connection\" was nominated for an Oscar that year, but was beat out by Norma Rae\\'s \"It Goes Like It Goes\". I\\'ll pick Kermit\\'s song any day! Get the kids and enjoy this timeless fantasy...someday they\\'ll find it, the rainbow connections, the lovers, the dreamers and me! This is one of the best comedy ever ! The writing of this parody of soap is brilliant and the cast, well just look at the names of the cast and you\\'ll understand why it is so great. If you\\'re a Kevin Kline fan, he does (as always) an fantastic performance, and Robert Downey Jr is perfect. If you don\\'t laugh while seen this movie, you don\\'t have any sense of humor. This movie is great, the music \"with the exception of the very first song in the movie\" was awesome. The story line is awesome too, it\\'s just basically a wonderfull movie, for ALL ages. I found the last battle scene awesome! Basically this was a great flick! I own this movie. I\\'ve seen it over 20 times and every time I still get weepy. Its a Great love story, surprises, and you can definately feel chemistry between Klein and Sobiesky. I definately give this movie a perfect 10. I recommend this to anyone. I agree with another user here and have to say that this is one of the best Kung Fu movies ever! I watched this as a kid and absolutely loved it! The scaffolding scenes are brilliant and you can really empathise with this guy because he is treated as an outcast. Nice humour and fantastic kung fu this movie rocks! If you like Kung Fu you would love this!!! \"Capitães de Abril\" is a very good. The story isn\\'t a documentary about the 1974 revolution in Portugal. But it gives us an idea of how it was like. The fiction of the story isn\\'t of great interest, but it doesn\\'t spoil the movie. The heroic actions of Captain Salgueiro Maia aren\\'t exaggerations and the film is also a tribute for his deeds. Captain Salgueiro Maia remains one of the greatest heroes of the 25th of April Revolution.<br /><br />All the actors are very good and even the smallest roles are played wonderfully. Lisbon looks beautiful as ever. Don\\'t miss it! I liked this film very much. My definition of a great movie is if you want to continue to see it over again. This movie for some reason strikes a cord in me even though the scenes with Scott Glenn still make me winch; I watch it over and over again and love the music! Before Dogma 95: when Lars used movies as art, not just a story. A beautiful painting about love and death. This is one of my favorite movies of all time. The color... The music... Just perfect. This movie was very good. I really enjoyed it. Tom McCamus\\' performance was excellent and very believable as the consumptive son Edmund. I also enjoyed the set design (house) and the costumes. \"Robin Hood: Men in Tights\" has received no respect whatsoever. It was hilarious! Cary Elwes was excellent as the \"Prince of Thieves,\" and David Chappelle, Amy Yasbeck, Patrick Stewart, Richard Lewis and Mark Blankfield as Blinkin all did fine jobs. I will never understand the hostility toward \"Robin Hood: Men in Tights,\" but I do know a great comedy when I see one.<br /><br />\"Robin Hood: Men in Tights\" receives *** out of ****. I am from Texas and my family vacationed a couple of years ago to Sante Fe with my brother. He suggested we go to see the church with the staircase. I was absolutely blown away by the miracles that took place there. The movie is great - Barbara Hershey and William Petersen were perfect for the parts they played. It is amazing, absolutely amazing. If you have not seen the staircase in person, it is worth the trip to go see it. The wood is beautiful and the architecture is astounding. Just being in the chapel gives me goose bumps! To read about the history of the chapel, and then to see its beauty is breathtaking. See the movie - it is GREAT! Then see the staircase in person! I really enjoyed this movie. During the movie, I felt that I wanted Pelagia and Captain Corelli to get together. I heard myself screaming: Come on, kiss her! The movie has a happy ending. Good movie to watch in the evening when you want to chill. My mom took me to see this movie when it came out around Christmas of 1976. I loved it then and I love it now. I know everyone makes fun of Barbra\\'s hair in this one, but I think she looks and sounds great! ...And I seem to remember a number of women who copied that permed look at the time! Also, the bath tub scene between Streisand and Kristoferson is just so sexy! The music is great as well. This is the groovy 70\\'s Babs at her best! I just want To say that this movie was excellent .<br /><br />I loved it from the beginning until the end. <br /><br />The acting was great .The director did an amazing job and I would like to see it again.<br /><br />Jennifer Tilly did a very good performance , The guy that interpreted his father (Manny) was another great actor BUT I CAN NOT RECALL HIS NAME .<br /><br />I can\\'t wait for El Padrino II.<br /><br />Damian Chapa looks so good and I think he is one of the most talented actors out there. There is pleanty of Latin actors that do a great job like it is shown in this film!<br /><br />Rent It!!! Rent it !!! Rent it !!! I thought that this was actually the best vampire movie that I\\'ve ever seen. I\\'ve seen a lot too. The effects were great, and the casting was brilliant. It was an all around good movie. The makeup and costumes were great too. I would recommend it, but not for kids. It\\'s not a children\\'s movie. I really liked this picture, because it realistically dealt with two people in love, and one of them having a disorder. Though the ending saddened me, I know that that was the best way for it to finish off. I would recommed this to everyone. This is one of Peter Sellers\\' best movies. Why is it never shown on TV or movie theaters? Will it ever be released as a home movie? Is it too derogatory for the medical field? I would love to see this movie again. I would like my son, who is a doctor,to see it. Laughter is the best medicine and Peter Sellers is the best doctor for this. This is a charming movie starring everyone\\'s favorite cartoon chipmunks. In this feature we follow the band of rodents on an unforgettable balloon race around the world. Although there are lows, including an orphan penguin, all in all it\\'s a great family film. I loved this film. A must see for any Rod Steiger fan. Producer Suzanne DeLaurentiis and Director Stewart Raffill have brought us a true family film that touches the soul. An incredibly well put together movie with a beautiful soundtrack. John Leguizamo\\'s \"Freak\" is one of the funniest one-man shows I\\'ve ever seen! I recommend it to anyone! Well, anyone with a good sense of humor.... First off, I would just like to say what a big fan of Bette Midler\\'s I am. Stella is a very good movie with a wonderful cast (Bette Midler, John Goodman, Trini Alvarado, Stephen Collins, Marsha Mason) This is one of my favorite films of all time. It deals with a mother raising a child on her own, she goes through a lot of things that are out of her way to bring up her daughter Jenny played wonderfully by Trini Alvarado. This movie is very good and I suggest that you pick up a copy to watch it. Roger Ebert gave is 3 1/2 stars! And it deserved 4! WONDERFUL! I give it 4 out of 4! Jim Carrey shines in this beautiful movie. This is now one of my favorite movies. I read all about the making and I thought it was incredible how the did it. I can\\'t wait till this comes out on DVD. I saw this in theaters so many times, I can\\'t even count how times I\\'ve seen it. Jim Henson\\'s The Muppet Movie is a charming, funny and brilliant film that can be watched AND enjoyed by adults and kids. I feel this is my favorite childhood film because it combines great characters, great story, and great wit that it is irresistable. The plot involves Kermit the frog (puppeteered and voiced by Henson) in his odyssey across America to follow his dream in Hollywood. Along the way, he meets Fozzie Bear, The Great Gonzo (my favorite), Miss Piggy, Rolf, and DR. Teeth and the electric mayhem.<br /><br />This film has so many good things I can\\'t even say them. But it is memorable and every time I think of a puppet or muppet, I will think of this film. Look for cameos from Mel Brooks, Dom DeLouise, Paul Williams, Madeline Kahn, Bob Hope, Richard Pryor, Steve martin, Edgar Bergen (and Charlie McCarthey), Elliot Gould, Carol Kane and the great Orson Welles. Excellent and spectacular, one of the best films of the 70\\'s. A++ Its the best movie I have seen in 2000, it has the beautiful and talented Natalie Portman in it. It has a great storyline, cast and soundtrack. I enjoyed it very much. 10 out of 10 it\\'s the best movie i have ever seen!!!!!! i just love them!! i watch it every day! i have the episodes from the internet! here in Romania is being broadcast the 6 season! i\\'m happy that i have seen the show from the beginning and i\\'m glad that through the internet i can see the 7 season. until now, season 5 is my favorite one :D i love it because Logan appears and the scene where they jump is my favorite. i have liked Dean too, but Logan is best. i would like Lorelai to remain with Christopher, because he is beautiful. this show is good for all ages and is worth to be seen. i really want the DVD\\'s but i think that here in Romania will never appear, because i think that they don\\'t even know that they have fans here. but, no matter what, i\\'ll be watching it. bye!! This show is awesome! and I\\'ve seen it about 6 times.<br /><br />Granted it may be lacking in educational content as some people like those sort of movies, but I think it\\'s great, very funny and excellently written! Best club scenes that i have seen in a long time - atmosphere mesmerising - matthew Rhys\\'s performance is impeccable and faultless. i would recommend this film to any age group. watch out for wonderwoman! What can I say? An excellent end to an excellent series! It never quite got the exposure it deserved in Asia, but by far, the best cop show with the best writing and the best cast on televison. EVER! The end of a great era. Sorry to see you go... What can I say? An excellent end to an excellent series! It never quite got the exposure it deserved in Asia, but by far, the best cop show with the best writing and the best cast on televison. EVER! The end of a great era. Sorry to see you go... Rob Roy is and underrated epic of passion and action!SOME MILD SPOILERS WITHIN. Liam Neeson gives a towering performance as Rob Roy MacGregor,one of the best in his career.Jessica Lange is letter-perfect as his wife Mary.They have the most passion and chemistry I\\'ve seen in a screen couple.John Hurt gives his best snotty aristocrat performance.Tim Roth portrays one of the great screen villains.His rape of Mary is repugnant and harrowing.He really is a magnificent bastard in this movie.The final duel between Rob and Cunningham is one of the best swordfights ever.Well scripted ans scored,and Michael Caton-Jones direction is flawless. 10 out of 10. The film adaptation of James Joyce\\'s Ulysses is excellent. The actors, the voice overs, the direction, it all captures the feel of the novel without sacrificing its own merits. The Milo O\\'Shea does an excellent job as Leopold Bloom, the cuckolded man married to the sassy Molly. I absolutely love this picture. I thought it was an original story, very nicely told. I think all you people are expecting too much. I mean...it\\'s just a made for television movie! What are you expecting? Some Great wonderful dramtic piece? I thought it was a really great story for a made for television movie....and that\\'s my opinion. Pakeezah is in my mind the greatest achievement of Indian cinema. The film is visually overwhelming but also emotionally breathtaking. The music, the songs, the sets, the costumes, the cinematography, in fact every creative element is worthy of superlatives. I just came back from seeing this awesome movie!! I can relate to it so much...It reminded me when my sister had to go to college, we had to move from place to place, and my mom acts like Adele August! Boys might not like this movie since it brings tears to your eyes. One of the best real-life movies I\\'ve ever seen!! and Natalie Portman rules!! 10/10 This story focuses on the birth defect known as FAS, or Fetal Alcohol Syndrome, a disease diagnosed too often among Native Americans. In spite of the down-beat nature of this drama, the great script and the characterizations move the story along very well. This is arguably Smits best performance. Hello. This movie is.......well.......okay. Just kidding! ITS AWESOME! It\\'s NOT a Block Buster smash hit. It\\'s not meant to be. But its a big hit in my world. And my sisters. We are rockin\\' Rollers. GO RAMONES!!!! This is a great movie.............. For ME! Wonderful movie. Adult content. Lots of erotic scenes plus excellent music and dance scenes. My wife and I absolutely loved this movie and wish they\\'d make more like it. A delightful and wonderful film, which has entered my pantheon of great romantic comedies. IN many ways it\\'s even better than \"When Harry met Sally.\" IT wears well on viewing and re-viewing. The cast is excellent, and both David Duchovny and Minnie Driver give us really believable characters. The DVD release of this superior made for TV BBC drama is a more than welcome addition to my collection. Great acting, gripping story, and wonderful direction all add up to one of the best BBC dramas in years. This is a truly magnificent and heartwrenching film!!!! Ripstein\\'s locations are spectacular, extremely detailed and well lit, the dialogue is extraordinarily García Márquez, no doubt about it. Fernando Luján and Marisa Paredes give us outstanding performances as the colonel and his wife.<br /><br />You must see it!!! All this talk about this being a bad movie is nonsense. As a matter of fact this is the best movie I\\'ve ever seen. It\\'s an excellent story and the actors in the movie are some of the best. I would not give criticism to any of the actors. That movie is the best and it will always stay that way. To me this was Colin Farrells best movie evr! He introduced himself to America through this movie and he was great. He really got you into his charictor and made u feel the passion he was putting into his role. In my opinion it is a great movie and my favorite. The Stunts sequences (as well as the Special Effects) are Brilliant, in this movie. Michael Scherer must be one of Canadas BEST Stunt Co-ordinators of all time. The explosion in the Café, is a wonderful combination of Stunts, Special Effects AND Visual Effects. The Director HAD an idea, that the Crew managed to create on film.<br /><br />Besides that; Donald Sutherland makes one of his best performances in this film....... This movie is perfect for all the romantics in the world. John Ritter has never been better and has the best line in the movie! \"Sam\" hits close to home, is lovely to look at and so much fun to play along with. Ben Gazzara was an excellent cast and easy to fall in love with. I\\'m sure I\\'ve met Arthur in my travels somewhere. All around, an excellent choice to pick up any evening.!:-) A wonderful story...so beautiful told..so intense so whit no keyboard to describe I think...,go see it feel it...,it tell\\'s a story about love ,romance ,war,and be trail so wonderful so full of romance if you love romance see it ,if you don\\'t love romance ,drama well skip it that\\'s all I can I vote 10 out of 10 stars wonderful... Two great stars and a legendary Director created a magnificent throbbing love story that is memorable and moving on so many levels.<br /><br />Henry King directed Jennifer Jones in her first hit Song of Bernadette and he again directs Jennifer Jones in this film and Miss Jones is perfect in this role and gives a edgy, beautiful performance that captures the conflict in the character and Bill Holden who hit home run after home run in the l950\\'s with a series of smash hit films beginning with Sunset Blvd, Stalag 17, Born Yesterday,Country Girl, Picnic, and of course River Kwai is superb in this role.Hard to imagine anyone but Holden in this movie I loved the ending and cry every time I see it. For anyone who has ever loved and lost, you will understand. For those who haven\\'t, you won\\'t. A surprisingly beautiful movie. Beautifully conceived, beautifully directed, beautifully acted, beautifully acted and most beautifully photographed.....the cinematography is nothing short of splendid. It is a war movie but is epic in it\\'s scope and blends romance, tragedy and comedy into a story that is as harrowing as it is provoking. This was an excellent movie! I saw this at the Karlovy Vary IFF in the Czech Republic, and it won an award there. This is the first film I\\'ve ever seen from Jan (the director), and I was impressed. It\\'s a great story about love and family. The movie has a great balance of comedy, romance, drama, and suspense all in one. I will not give away any of the plot, but this is a well-made film, and I would watch it again if I had the chance! The cinematography/editing is great, the film simply flows, and the characters are warm, and they are the kind that one can relate to. I hope you can enjoy this film as I did. If anyone knows where I can find this in the United States, or if they plan on releasing it on DVD anytime soon, please let me know!! This is a great TV miniseries of a classic novel. Janet McTeer and John Bowe, in the lead roles, are exceptional. This is one of the best adaptations from a book that I have seen. I would LOVE to get a copy of this - let me know if you know how I might get one...Thanks! This film is great with some of the best songs preformed by Bon Jovi and kiss.The film is about a man named Chris(Mark Wahlberg)Who is the biggest fan of a band named Steel Dragon.And then when he gets the gig for lead singer his world changes upside down.With great acting by Jennifer Aniston this film is a must see for rock lovers!!<br /><br />4/5 stars I\\'ve seen Riverdance in person and nothing compares to the video, but the show is awesome. The dancers are amazing. The music is impacting. And the overall performance is outstanding. I\\'ve never seen anything like it! I suggest that you see this show if you can!!! This is one of the best of the genre. I saw it twice about 25yrs ago and have not had another opportunity to see it again since then. It rivals the Zatoichi series (also starring Katsu) in exciting swordplay. Brilliant execution in displaying once and for all, this time in the venue of politics, of how \"good intentions do actually pave the road to hell\". Excellent! I really enjoyed this movie... In My DVD collection of baseball movies... Reminded me how great the sport truly is... Whether it\\'s here in America or Japan. Just love the interplay between two great characters of stage & screen - Veidt & Barrymore This film is definetly Fonda\\'s best film. The Plot is amazing, the acting is amazing, and the directing is amazing. An all time classic, this should have won best picture not kramer Vs. Kramer. Though it was not even nominated. Jack Lemmon and Micheal Douglas are also at their best. One of the best endings ever. If you haven\\'t seen this film run don\\'t walk to rent it. Should have been on afi\\'s top 100. See it not just for Fonda but for everything.<br /><br />**** out of **** 4 out of 4 i thought this movie was really really great! Helena did an amazing job in it! I thought she played her character very well! she\\'s an AWESOME actress!! :)<br /><br />the movie was also really funny too! The jokes were great! i couldnt stop laughing! :)<br /><br />i think everyone should see it... :)<br /><br /> One of the most underrated comedies. Dan Akroyd is hilarious in this over the top role; Charles Grodin gives a performance nearly as good as in \"Midnight Run;\" and Walter Matthau gives a superb comedic performance in this sometimes subdued, sometimes wacky film. Akroyd and Matthau have great chemistry together.... Moonwalker is absolutely incredible !!!!!!! What else can I say !? Michael Jackson is the true King of pop, rock and soul !!! Moonwalker has everything ! Great story line, fantastic music, great visual effects, and of course it has Michael Jackson !!!!!! <br /><br />Her Excellency Madam Shabana Azmi has worked in countless movies over life time. I think best is yet to come.<br /><br />Fire is ok.<br /><br />But still good days are yet to come.<br /><br />Hopefully, in Water I will be able see her better.<br /><br />Thanks and Regards.<br /><br />PS: India doesn\\'t have a director to make best use of her. \"Foxes\" is a great film. The four young actresses Jodie Foster, Cherie Currie, Marilyn Kagan and Kandice Stroh are wonderful. The song \"On the radio\" by Donna Summer is lovely. A great film. ***** Buster Keaton was finding his feature length voice in \"Three Ages.\" There are some fine sequences, but it doesn\\'t quite hang together. The \"chariot race\" in \"Three Ages\" is hilarious. Included are 2 shorts, one of which, \"The Goat,\" is excellent. Bette Midler showcases her talents and beauty in \"Diva Las Vegas\". I am thrilled that I taped it and I am able to view whenever I want to. She possesses what it takes to keep an audience in captivity. Her voice is as beautiful as ever and will truly impress you. The highlight of the show was her singing \"Stay With Me\" from her 1979 movie \"The Rose\". You can feel the emotion in the song and will end up having goose bumps. The show will leave you with the urge to go out and either rent a Bette Midler movie or go to the nearest music store and purchase one of Bette Midler\\'s albums. Bette Midler showcases her talents and beauty in \"Diva Las Vegas\". I am thrilled that I taped it and I am able to view whenever I want to. She possesses what it takes to keep an audience in captivity. Her voice is as beautiful as ever and will truly impress you. The highlight of the show was her singing \"Stay With Me\" from her 1979 movie \"The Rose\". You can feel the emotion in the song and will end up having goose bumps. The show will leave you with the urge to go out and either rent a Bette Midler movie or go to the nearest music store and purchase one of Bette Midler\\'s albums. Thsi is one great movie. probably the best movie i have ever seen. I Watch it over and over again. I must give it 10/10 stars because like i said this is probably the best movie i have ever seen. This Movie +Popcorn+Coke= Best mix you can imagine. If you want to watch some movie then i clearly recommend this one. First i sawed it i liked it so i buy-ed it and now i own it and watch it probably every day. my sons like it and think that this is the best movie ever seen. This movie is about Guy In Fantasy World. i don\\'t want to spoil all the movie so you can enjoy it after you read my text. Lovely Movie Lovely Characters, Lovely Story, And Just great stuff. a must watch movie. hope you enjoyed my comment Cya<br /><br />Jim Make A very engaging, intelligent, and well-made film. Liam Neeson and Tim Roth play their roles superbly. The cinematography is outstanding. The fight scenes are amazing. This is a film I will enjoy watching again and again. One of my favorites. This film to me is a very good film!!<br /><br />I have a German Shepherd myself and I wish to god he was like Jerry Lee!! I hope too that there is another K-9 in the running!! With Jerry Lee and Dooley in them!! I don\\'t care what any one say these two films were excellent!!'"
      ]
     },
     "execution_count": 89,
     "metadata": {},
     "output_type": "execute_result"
    }
   ],
   "source": [
    "paragraph = ' '.join(df_top_100['review'].tolist())\n",
    "paragraph"
   ]
  },
  {
   "cell_type": "markdown",
   "metadata": {},
   "source": [
    "Installation du package nltk"
   ]
  },
  {
   "cell_type": "code",
   "execution_count": 90,
   "metadata": {},
   "outputs": [
    {
     "name": "stdout",
     "output_type": "stream",
     "text": [
      "Requirement already satisfied: nltk in c:\\users\\hp\\anaconda3\\lib\\site-packages (3.9.1)\n",
      "Requirement already satisfied: click in c:\\users\\hp\\anaconda3\\lib\\site-packages (from nltk) (8.0.4)\n",
      "Requirement already satisfied: joblib in c:\\users\\hp\\anaconda3\\lib\\site-packages (from nltk) (1.2.0)\n",
      "Requirement already satisfied: regex>=2021.8.3 in c:\\users\\hp\\anaconda3\\lib\\site-packages (from nltk) (2022.7.9)\n",
      "Requirement already satisfied: tqdm in c:\\users\\hp\\anaconda3\\lib\\site-packages (from nltk) (4.65.0)\n",
      "Requirement already satisfied: colorama in c:\\users\\hp\\anaconda3\\lib\\site-packages (from click->nltk) (0.4.6)\n"
     ]
    }
   ],
   "source": [
    "!pip install nltk"
   ]
  },
  {
   "cell_type": "markdown",
   "metadata": {},
   "source": [
    "Définissons une fonction \"clean_text\" pour le néttoyage de notre paragraphe"
   ]
  },
  {
   "cell_type": "code",
   "execution_count": 92,
   "metadata": {},
   "outputs": [],
   "source": [
    "import string\n",
    "stop_words= set(stopwords.words('english'))\n",
    "def clean_text(text):\n",
    "    text = text.lower()  # Convertion en minuscule\n",
    "    text = ''.join(char for char in text if char not in string.punctuation)  # Suppression des ponctuations\n",
    "    words = text.split()  # Séparer les mots\n",
    "    words = [word for word in words if word not in stop_words]  # Suppression des stopwords\n",
    "    return ' '.join(words)"
   ]
  },
  {
   "cell_type": "markdown",
   "metadata": {},
   "source": [
    "Néttoyage de notre paragraphe"
   ]
  },
  {
   "cell_type": "code",
   "execution_count": 93,
   "metadata": {},
   "outputs": [
    {
     "data": {
      "text/plain": [
       "'smallville episode justice best episode smallville favorite episode smallville smallville episode justice best episode smallville favorite episode smallville one favorites child family 8track tape soundtrack took us years 20s us get video movie dad taped hbo something every summer go beach mom brother sister lay beach sing songs movie loved sjöströms masterpiece movie captures swedish soul also served great inspiration bergman similarites körkarlen smultronstället sjöström leading role isak borg 1957 coincidence dont miss world john made two one man shows spic rama freaks neither one shown dvd john john put dvd john people seethey need see john case anyones keeping watchful aye movie smiling beginning end partly humor partly meg ryan perfect character always one best feelgood movies ive seen hopefully dvd soon watched film hundred times really best serbian movie made everi wood like recommend movie everyone good comedy surely like brilliant moving performances tom courtenay peter finch felt great joy seeing film master piece convinced portuguese cinema became really good see best portuguese actores field melissa joan hart shines show amazing match except maybe melissa clarissa explains marvelous much better buffy vampire slayer show wonderful movie good screenplay enchanting meryl streep impressive performance excellent brings go heart role movie good leon phelps hilarious went bought case cognac went bought case cognaci went bought case cognaci went bought case cognaci went bought case cognaci went bought case cognaci went bought case cognaci went bought case cognaci went bought case cognaci went bought case cognaci went bought case cognaci went bought case cognac adrian pasdar excellent film makes fascinating woman color purple truly amazing none like dont think ever roller coster emotion pain viewer takes actors flawless directing superb absolutely loved movie never made happy beautiful thats best way explain really great film pulp fiction genre touch film noir thrown truly one emma thompsons best performances datethis film everything well written well directed beautifully films great performances dont know didnt catch spectacular biggest heroes one greatest movies ever good story great actors brilliant ending makes film jumping start director thomas vinterbergs great carrier rating 1010 master piecebr br years ago heard spielberg comment would redo movie chance well mr spielberg guess nothing perfect movie together schindlers list best even oprah acts well one br br got realism story drama stuff like happened still happening world great movie trainspotting style billed welsh trainspotting twin town although streets aheadbr br takes weekend life cardiff clubbers good debut movie kerrigan great performances castbr br go see go clubbing captain corellis mandolin beautiful film lovely cast including wonderful nicolas cage always brilliant movie music film really nice id advise anyone go see brilliant 1010 teenager really enjoyed movie mary kate ashley worked great together everyone seemed ease thought movie plot good hope everyone else enjoys sure rent also great soccer scenes soccer players one michael jacksons best music videos ever made vincent prices rap totally cool zombies dancing michael totally amazing michael jackson one favourite singers one best singers world way go michael say damn good movie see still havent great camera works lighting techniques awesome awesome orson welles incredible lady shanghai certainly take place citizen kane john leguizamo great comedian storyteller every time hbo ive stop watch john tells story grew probably fact fiction adds hilarious stories midst like johns comedy would say probably comedy best great movie great actors great soundtrack loved settings perfect dialogues situations storyline together mixed give masterpiece clooney turturro magnificent soggy bottom boys simply charming contagious music shah rukh khan plays obbsessed lover would go lengths get lady juhi chawla wonderful job making best character sunny deol plays hero action man film good id reecommend anyone show incredible ive seen three best movie suspensea bit romancestunts blow mind go bobbie great characters amazing locations filmed really liked story line brother looking forward chameleon 4 see world saved yet seen movie could remember fantastic fun plot madonna fumbles around city pumas etc causing commotion music perfect happy ending who´s girl great choice romanticist like opinion could even best madonna movie ever seen 1010 one argue best movie ever perfect definition movie collective hypnosis beyond times movie give perfectly impression carried inside even saw first timebr br images stay forever one tvs greatest miniseries comes life almost well book also cast outstanding play roles id recommend movie series anyone likes civil war history leading i´m germany love mvovies go 200 times year tonight saw pecker wonderful evening thank mr waters everybody chance see movie go think one greatest movies ever made ive seen many book better still good movie got go dig holes holes leaves troble makes movie good disney done againshia labeouf nominated best actor performance stanley yelnats alredy daytime emmy best actor comedy series even stevens holes one best movies 2003 wow one greatest movies ever ever seenbr br absolutely loved opening credits done glued screenbr br scifi thriller edge seat whodunnit incrediblebr br wishd would never endbr br lucy liu throwaway role anyone could played lead actor jeremy northram perfect geeky guy br br movie appeals loved war games sneakers track downbr br incrediblebr br 82206 walt lv film one fondest childhood memories seeing muppets height popularity heading hollywood singing dancing miss piggy googelyeying beloved kermit fozzie bear best everyones manager generous cast extras delivering film turned okey dokeybr br kermits melancholy ukulele number rainbow connection nominated oscar year beat norma raes goes like goes ill pick kermits song day get kids enjoy timeless fantasysomeday theyll find rainbow connections lovers dreamers one best comedy ever writing parody soap brilliant cast well look names cast youll understand great youre kevin kline fan always fantastic performance robert downey jr perfect dont laugh seen movie dont sense humor movie great music exception first song movie awesome story line awesome basically wonderfull movie ages found last battle scene awesome basically great flick movie ive seen 20 times every time still get weepy great love story surprises definately feel chemistry klein sobiesky definately give movie perfect 10 recommend anyone agree another user say one best kung fu movies ever watched kid absolutely loved scaffolding scenes brilliant really empathise guy treated outcast nice humour fantastic kung fu movie rocks like kung fu would love capitães de abril good story isnt documentary 1974 revolution portugal gives us idea like fiction story isnt great interest doesnt spoil movie heroic actions captain salgueiro maia arent exaggerations film also tribute deeds captain salgueiro maia remains one greatest heroes 25th april revolutionbr br actors good even smallest roles played wonderfully lisbon looks beautiful ever dont miss liked film much definition great movie want continue see movie reason strikes cord even though scenes scott glenn still make winch watch love music dogma 95 lars used movies art story beautiful painting love death one favorite movies time color music perfect movie good really enjoyed tom mccamus performance excellent believable consumptive son edmund also enjoyed set design house costumes robin hood men tights received respect whatsoever hilarious cary elwes excellent prince thieves david chappelle amy yasbeck patrick stewart richard lewis mark blankfield blinkin fine jobs never understand hostility toward robin hood men tights know great comedy see onebr br robin hood men tights receives texas family vacationed couple years ago sante fe brother suggested go see church staircase absolutely blown away miracles took place movie great barbara hershey william petersen perfect parts played amazing absolutely amazing seen staircase person worth trip go see wood beautiful architecture astounding chapel gives goose bumps read history chapel see beauty breathtaking see movie great see staircase person really enjoyed movie movie felt wanted pelagia captain corelli get together heard screaming come kiss movie happy ending good movie watch evening want chill mom took see movie came around christmas 1976 loved love know everyone makes fun barbras hair one think looks sounds great seem remember number women copied permed look time also bath tub scene streisand kristoferson sexy music great well groovy 70s babs best want say movie excellent br br loved beginning end br br acting great director amazing job would like see againbr br jennifer tilly good performance guy interpreted father manny another great actor recall name br br cant wait el padrino iibr br damian chapa looks good think one talented actors pleanty latin actors great job like shown filmbr br rent rent rent thought actually best vampire movie ive ever seen ive seen lot effects great casting brilliant around good movie makeup costumes great would recommend kids childrens movie really liked picture realistically dealt two people love one disorder though ending saddened know best way finish would recommed everyone one peter sellers best movies never shown tv movie theaters ever released home movie derogatory medical field would love see movie would like son doctorto see laughter best medicine peter sellers best doctor charming movie starring everyones favorite cartoon chipmunks feature follow band rodents unforgettable balloon race around world although lows including orphan penguin great family film loved film must see rod steiger fan producer suzanne delaurentiis director stewart raffill brought us true family film touches soul incredibly well put together movie beautiful soundtrack john leguizamos freak one funniest oneman shows ive ever seen recommend anyone well anyone good sense humor first would like say big fan bette midlers stella good movie wonderful cast bette midler john goodman trini alvarado stephen collins marsha mason one favorite films time deals mother raising child goes lot things way bring daughter jenny played wonderfully trini alvarado movie good suggest pick copy watch roger ebert gave 3 12 stars deserved 4 wonderful give 4 4 jim carrey shines beautiful movie one favorite movies read making thought incredible cant wait till comes dvd saw theaters many times cant even count times ive seen jim hensons muppet movie charming funny brilliant film watched enjoyed adults kids feel favorite childhood film combines great characters great story great wit irresistable plot involves kermit frog puppeteered voiced henson odyssey across america follow dream hollywood along way meets fozzie bear great gonzo favorite miss piggy rolf dr teeth electric mayhembr br film many good things cant even say memorable every time think puppet muppet think film look cameos mel brooks dom delouise paul williams madeline kahn bob hope richard pryor steve martin edgar bergen charlie mccarthey elliot gould carol kane great orson welles excellent spectacular one best films 70s best movie seen 2000 beautiful talented natalie portman great storyline cast soundtrack enjoyed much 10 10 best movie ever seen love watch every day episodes internet romania broadcast 6 season im happy seen show beginning im glad internet see 7 season season 5 favorite one love logan appears scene jump favorite liked dean logan best would like lorelai remain christopher beautiful show good ages worth seen really want dvds think romania never appear think dont even know fans matter ill watching bye show awesome ive seen 6 timesbr br granted may lacking educational content people like sort movies think great funny excellently written best club scenes seen long time atmosphere mesmerising matthew rhyss performance impeccable faultless would recommend film age group watch wonderwoman say excellent end excellent series never quite got exposure deserved asia far best cop show best writing best cast televison ever end great era sorry see go say excellent end excellent series never quite got exposure deserved asia far best cop show best writing best cast televison ever end great era sorry see go rob roy underrated epic passion actionsome mild spoilers within liam neeson gives towering performance rob roy macgregorone best careerjessica lange letterperfect wife marythey passion chemistry ive seen screen couplejohn hurt gives best snotty aristocrat performancetim roth portrays one great screen villainshis rape mary repugnant harrowinghe really magnificent bastard moviethe final duel rob cunningham one best swordfights everwell scripted ans scoredand michael catonjones direction flawless 10 10 film adaptation james joyces ulysses excellent actors voice overs direction captures feel novel without sacrificing merits milo oshea excellent job leopold bloom cuckolded man married sassy molly absolutely love picture thought original story nicely told think people expecting much meanits made television movie expecting great wonderful dramtic piece thought really great story made television movieand thats opinion pakeezah mind greatest achievement indian cinema film visually overwhelming also emotionally breathtaking music songs sets costumes cinematography fact every creative element worthy superlatives came back seeing awesome movie relate muchit reminded sister go college move place place mom acts like adele august boys might like movie since brings tears eyes one best reallife movies ive ever seen natalie portman rules 1010 story focuses birth defect known fas fetal alcohol syndrome disease diagnosed often among native americans spite downbeat nature drama great script characterizations move story along well arguably smits best performance hello movie iswellokay kidding awesome block buster smash hit meant big hit world sisters rockin rollers go ramones great movie wonderful movie adult content lots erotic scenes plus excellent music dance scenes wife absolutely loved movie wish theyd make like delightful wonderful film entered pantheon great romantic comedies many ways even better harry met sally wears well viewing reviewing cast excellent david duchovny minnie driver give us really believable characters dvd release superior made tv bbc drama welcome addition collection great acting gripping story wonderful direction add one best bbc dramas years truly magnificent heartwrenching film ripsteins locations spectacular extremely detailed well lit dialogue extraordinarily garcía márquez doubt fernando luján marisa paredes give us outstanding performances colonel wifebr br must see talk bad movie nonsense matter fact best movie ive ever seen excellent story actors movie best would give criticism actors movie best always stay way colin farrells best movie evr introduced america movie great really got charictor made u feel passion putting role opinion great movie favorite stunts sequences well special effects brilliant movie michael scherer must one canadas best stunt coordinators time explosion café wonderful combination stunts special effects visual effects director idea crew managed create filmbr br besides donald sutherland makes one best performances film movie perfect romantics world john ritter never better best line movie sam hits close home lovely look much fun play along ben gazzara excellent cast easy fall love im sure ive met arthur travels somewhere around excellent choice pick evening wonderful storyso beautiful toldso intense whit keyboard describe thinkgo see feel itit tells story love romance warand trail wonderful full romance love romance see dont love romance drama well skip thats vote 10 10 stars wonderful two great stars legendary director created magnificent throbbing love story memorable moving many levelsbr br henry king directed jennifer jones first hit song bernadette directs jennifer jones film miss jones perfect role gives edgy beautiful performance captures conflict character bill holden hit home run home run l950s series smash hit films beginning sunset blvd stalag 17 born yesterdaycountry girl picnic course river kwai superb rolehard imagine anyone holden movie loved ending cry every time see anyone ever loved lost understand havent wont surprisingly beautiful movie beautifully conceived beautifully directed beautifully acted beautifully acted beautifully photographedthe cinematography nothing short splendid war movie epic scope blends romance tragedy comedy story harrowing provoking excellent movie saw karlovy vary iff czech republic award first film ive ever seen jan director impressed great story love family movie great balance comedy romance drama suspense one give away plot wellmade film would watch chance cinematographyediting great film simply flows characters warm kind one relate hope enjoy film anyone knows find united states plan releasing dvd anytime soon please let know great tv miniseries classic novel janet mcteer john bowe lead roles exceptional one best adaptations book seen would love get copy let know know might get onethanks film great best songs preformed bon jovi kissthe film man named chrismark wahlbergwho biggest fan band named steel dragonand gets gig lead singer world changes upside downwith great acting jennifer aniston film must see rock loversbr br 45 stars ive seen riverdance person nothing compares video show awesome dancers amazing music impacting overall performance outstanding ive never seen anything like suggest see show one best genre saw twice 25yrs ago another opportunity see since rivals zatoichi series also starring katsu exciting swordplay brilliant execution displaying time venue politics good intentions actually pave road hell excellent really enjoyed movie dvd collection baseball movies reminded great sport truly whether america japan love interplay two great characters stage screen veidt barrymore film definetly fondas best film plot amazing acting amazing directing amazing time classic best picture kramer vs kramer though even nominated jack lemmon micheal douglas also best one best endings ever havent seen film run dont walk rent afis top 100 see fonda everythingbr br 4 4 thought movie really really great helena amazing job thought played character well shes awesome actress br br movie also really funny jokes great couldnt stop laughing br br think everyone see br br one underrated comedies dan akroyd hilarious top role charles grodin gives performance nearly good midnight run walter matthau gives superb comedic performance sometimes subdued sometimes wacky film akroyd matthau great chemistry together moonwalker absolutely incredible else say michael jackson true king pop rock soul moonwalker everything great story line fantastic music great visual effects course michael jackson br br excellency madam shabana azmi worked countless movies life time think best yet comebr br fire okbr br still good days yet comebr br hopefully water able see betterbr br thanks regardsbr br ps india doesnt director make best use foxes great film four young actresses jodie foster cherie currie marilyn kagan kandice stroh wonderful song radio donna summer lovely great film buster keaton finding feature length voice three ages fine sequences doesnt quite hang together chariot race three ages hilarious included 2 shorts one goat excellent bette midler showcases talents beauty diva las vegas thrilled taped able view whenever want possesses takes keep audience captivity voice beautiful ever truly impress highlight show singing stay 1979 movie rose feel emotion song end goose bumps show leave urge go either rent bette midler movie go nearest music store purchase one bette midlers albums bette midler showcases talents beauty diva las vegas thrilled taped able view whenever want possesses takes keep audience captivity voice beautiful ever truly impress highlight show singing stay 1979 movie rose feel emotion song end goose bumps show leave urge go either rent bette midler movie go nearest music store purchase one bette midlers albums thsi one great movie probably best movie ever seen watch must give 1010 stars like said probably best movie ever seen movie popcorncoke best mix imagine want watch movie clearly recommend one first sawed liked buyed watch probably every day sons like think best movie ever seen movie guy fantasy world dont want spoil movie enjoy read text lovely movie lovely characters lovely story great stuff must watch movie hope enjoyed comment cyabr br jim make engaging intelligent wellmade film liam neeson tim roth play roles superbly cinematography outstanding fight scenes amazing film enjoy watching one favorites film good filmbr br german shepherd wish god like jerry lee hope another k9 running jerry lee dooley dont care one say two films excellent'"
      ]
     },
     "execution_count": 93,
     "metadata": {},
     "output_type": "execute_result"
    }
   ],
   "source": [
    "paragraph2 =clean_text(paragraph)\n",
    "paragraph2"
   ]
  },
  {
   "cell_type": "markdown",
   "metadata": {},
   "source": [
    "Création du nuage de mots et visualisation avec la bibliothèque matplotlib"
   ]
  },
  {
   "cell_type": "code",
   "execution_count": 96,
   "metadata": {},
   "outputs": [
    {
     "data": {
      "image/png": "[encoded data removed]",
      "text/plain": [
       "<Figure size 1000x500 with 1 Axes>"
      ]
     },
     "metadata": {},
     "output_type": "display_data"
    }
   ],
   "source": [
    "from wordcloud import WordCloud\n",
    "wordcloud = WordCloud(width=800, height=400, background_color='white', colormap='viridis').generate(paragraph2)\n",
    "\n",
    "plt.figure(figsize=(10, 5))\n",
    "plt.imshow(wordcloud, interpolation='bilinear')\n",
    "plt.axis(\"off\")\n",
    "plt.show()\n"
   ]
  },
  {
   "cell_type": "markdown",
   "metadata": {},
   "source": [
    "## Conclusion : Aprés analyse de ce nuage de mots, les mots qui me viennent à l'esprit sont: meilleur, film, super, excellent, brillant. Oui ces mots ont un sens pour moi car ils me transmettent un sentiment positif sur le film\n"
   ]
  },
  {
   "cell_type": "markdown",
   "metadata": {},
   "source": [
    "# TP 01-04"
   ]
  },
  {
   "cell_type": "markdown",
   "metadata": {},
   "source": [
    "##  1-)Importons le vectoriseur depuis sklearn."
   ]
  },
  {
   "cell_type": "markdown",
   "metadata": {},
   "source": [
    "Installation de la bibliothèque sklearn"
   ]
  },
  {
   "cell_type": "code",
   "execution_count": 97,
   "metadata": {},
   "outputs": [
    {
     "name": "stderr",
     "output_type": "stream",
     "text": [
      "WARNING: Retrying (Retry(total=4, connect=None, read=None, redirect=None, status=None)) after connection broken by 'NewConnectionError('<pip._vendor.urllib3.connection.HTTPSConnection object at 0x00000206437EF150>: Failed to establish a new connection: [Errno 11001] getaddrinfo failed')': /simple/sklearn/\n",
      "WARNING: Retrying (Retry(total=3, connect=None, read=None, redirect=None, status=None)) after connection broken by 'NewConnectionError('<pip._vendor.urllib3.connection.HTTPSConnection object at 0x0000020641A3F390>: Failed to establish a new connection: [Errno 11001] getaddrinfo failed')': /simple/sklearn/\n",
      "WARNING: Retrying (Retry(total=2, connect=None, read=None, redirect=None, status=None)) after connection broken by 'NewConnectionError('<pip._vendor.urllib3.connection.HTTPSConnection object at 0x0000020644E0B590>: Failed to establish a new connection: [Errno 11001] getaddrinfo failed')': /simple/sklearn/\n",
      "WARNING: Retrying (Retry(total=1, connect=None, read=None, redirect=None, status=None)) after connection broken by 'NewConnectionError('<pip._vendor.urllib3.connection.HTTPSConnection object at 0x0000020644E14510>: Failed to establish a new connection: [Errno 11001] getaddrinfo failed')': /simple/sklearn/\n",
      "WARNING: Retrying (Retry(total=0, connect=None, read=None, redirect=None, status=None)) after connection broken by 'NewConnectionError('<pip._vendor.urllib3.connection.HTTPSConnection object at 0x0000020644E165D0>: Failed to establish a new connection: [Errno 11001] getaddrinfo failed')': /simple/sklearn/\n",
      "ERROR: Could not find a version that satisfies the requirement sklearn (from versions: none)\n",
      "ERROR: No matching distribution found for sklearn\n"
     ]
    }
   ],
   "source": [
    "!pip install sklearn"
   ]
  },
  {
   "cell_type": "code",
   "execution_count": 98,
   "metadata": {},
   "outputs": [],
   "source": [
    "from sklearn.feature_extraction.text import CountVectorizer"
   ]
  },
  {
   "cell_type": "markdown",
   "metadata": {},
   "source": [
    "## 2-) Construisons le vectoriseur et spécifions les paramètres suivants : la taille du vocabulaire doit être limitée à 1000, inclure uniquement les bigrammes et ignorer les termes qui apparaissent dans plus de 500 documents."
   ]
  },
  {
   "cell_type": "code",
   "execution_count": 99,
   "metadata": {},
   "outputs": [],
   "source": [
    "vectoriseur = CountVectorizer(max_features=1000,  ngram_range=(2,2),   max_df=500) "
   ]
  },
  {
   "cell_type": "markdown",
   "metadata": {},
   "source": [
    "## 3-) Ajustons le vectoriseur à la colonne des avis"
   ]
  },
  {
   "cell_type": "code",
   "execution_count": 100,
   "metadata": {},
   "outputs": [],
   "source": [
    "X = vectoriseur.fit_transform(df['review'])"
   ]
  },
  {
   "cell_type": "markdown",
   "metadata": {},
   "source": [
    "## 4-) Création d'un DataFrame à partir de la représentation BOW"
   ]
  },
  {
   "cell_type": "code",
   "execution_count": 101,
   "metadata": {},
   "outputs": [
    {
     "data": {
      "text/html": [
       "<div>\n",
       "<style scoped>\n",
       "    .dataframe tbody tr th:only-of-type {\n",
       "        vertical-align: middle;\n",
       "    }\n",
       "\n",
       "    .dataframe tbody tr th {\n",
       "        vertical-align: top;\n",
       "    }\n",
       "\n",
       "    .dataframe thead th {\n",
       "        text-align: right;\n",
       "    }\n",
       "</style>\n",
       "<table border=\"1\" class=\"dataframe\">\n",
       "  <thead>\n",
       "    <tr style=\"text-align: right;\">\n",
       "      <th></th>\n",
       "      <th>10 br</th>\n",
       "      <th>10 minutes</th>\n",
       "      <th>20 minutes</th>\n",
       "      <th>90 minutes</th>\n",
       "      <th>about an</th>\n",
       "      <th>about as</th>\n",
       "      <th>about her</th>\n",
       "      <th>absolutely no</th>\n",
       "      <th>across as</th>\n",
       "      <th>acting in</th>\n",
       "      <th>...</th>\n",
       "      <th>you in</th>\n",
       "      <th>you must</th>\n",
       "      <th>you need</th>\n",
       "      <th>you that</th>\n",
       "      <th>you the</th>\n",
       "      <th>you were</th>\n",
       "      <th>young man</th>\n",
       "      <th>young woman</th>\n",
       "      <th>your life</th>\n",
       "      <th>your own</th>\n",
       "    </tr>\n",
       "  </thead>\n",
       "  <tbody>\n",
       "    <tr>\n",
       "      <th>0</th>\n",
       "      <td>0</td>\n",
       "      <td>0</td>\n",
       "      <td>0</td>\n",
       "      <td>0</td>\n",
       "      <td>0</td>\n",
       "      <td>0</td>\n",
       "      <td>0</td>\n",
       "      <td>0</td>\n",
       "      <td>0</td>\n",
       "      <td>0</td>\n",
       "      <td>...</td>\n",
       "      <td>0</td>\n",
       "      <td>0</td>\n",
       "      <td>0</td>\n",
       "      <td>0</td>\n",
       "      <td>0</td>\n",
       "      <td>0</td>\n",
       "      <td>0</td>\n",
       "      <td>0</td>\n",
       "      <td>0</td>\n",
       "      <td>0</td>\n",
       "    </tr>\n",
       "    <tr>\n",
       "      <th>1</th>\n",
       "      <td>0</td>\n",
       "      <td>0</td>\n",
       "      <td>0</td>\n",
       "      <td>0</td>\n",
       "      <td>0</td>\n",
       "      <td>0</td>\n",
       "      <td>0</td>\n",
       "      <td>0</td>\n",
       "      <td>0</td>\n",
       "      <td>0</td>\n",
       "      <td>...</td>\n",
       "      <td>0</td>\n",
       "      <td>0</td>\n",
       "      <td>0</td>\n",
       "      <td>0</td>\n",
       "      <td>0</td>\n",
       "      <td>0</td>\n",
       "      <td>0</td>\n",
       "      <td>0</td>\n",
       "      <td>0</td>\n",
       "      <td>0</td>\n",
       "    </tr>\n",
       "    <tr>\n",
       "      <th>2</th>\n",
       "      <td>0</td>\n",
       "      <td>0</td>\n",
       "      <td>0</td>\n",
       "      <td>0</td>\n",
       "      <td>0</td>\n",
       "      <td>0</td>\n",
       "      <td>0</td>\n",
       "      <td>0</td>\n",
       "      <td>0</td>\n",
       "      <td>0</td>\n",
       "      <td>...</td>\n",
       "      <td>0</td>\n",
       "      <td>0</td>\n",
       "      <td>0</td>\n",
       "      <td>0</td>\n",
       "      <td>0</td>\n",
       "      <td>0</td>\n",
       "      <td>0</td>\n",
       "      <td>1</td>\n",
       "      <td>0</td>\n",
       "      <td>0</td>\n",
       "    </tr>\n",
       "    <tr>\n",
       "      <th>3</th>\n",
       "      <td>0</td>\n",
       "      <td>0</td>\n",
       "      <td>0</td>\n",
       "      <td>0</td>\n",
       "      <td>0</td>\n",
       "      <td>0</td>\n",
       "      <td>0</td>\n",
       "      <td>0</td>\n",
       "      <td>0</td>\n",
       "      <td>0</td>\n",
       "      <td>...</td>\n",
       "      <td>0</td>\n",
       "      <td>1</td>\n",
       "      <td>0</td>\n",
       "      <td>0</td>\n",
       "      <td>0</td>\n",
       "      <td>0</td>\n",
       "      <td>0</td>\n",
       "      <td>0</td>\n",
       "      <td>0</td>\n",
       "      <td>0</td>\n",
       "    </tr>\n",
       "    <tr>\n",
       "      <th>4</th>\n",
       "      <td>0</td>\n",
       "      <td>0</td>\n",
       "      <td>0</td>\n",
       "      <td>0</td>\n",
       "      <td>0</td>\n",
       "      <td>0</td>\n",
       "      <td>0</td>\n",
       "      <td>0</td>\n",
       "      <td>0</td>\n",
       "      <td>0</td>\n",
       "      <td>...</td>\n",
       "      <td>0</td>\n",
       "      <td>0</td>\n",
       "      <td>0</td>\n",
       "      <td>0</td>\n",
       "      <td>0</td>\n",
       "      <td>0</td>\n",
       "      <td>0</td>\n",
       "      <td>0</td>\n",
       "      <td>0</td>\n",
       "      <td>0</td>\n",
       "    </tr>\n",
       "    <tr>\n",
       "      <th>...</th>\n",
       "      <td>...</td>\n",
       "      <td>...</td>\n",
       "      <td>...</td>\n",
       "      <td>...</td>\n",
       "      <td>...</td>\n",
       "      <td>...</td>\n",
       "      <td>...</td>\n",
       "      <td>...</td>\n",
       "      <td>...</td>\n",
       "      <td>...</td>\n",
       "      <td>...</td>\n",
       "      <td>...</td>\n",
       "      <td>...</td>\n",
       "      <td>...</td>\n",
       "      <td>...</td>\n",
       "      <td>...</td>\n",
       "      <td>...</td>\n",
       "      <td>...</td>\n",
       "      <td>...</td>\n",
       "      <td>...</td>\n",
       "      <td>...</td>\n",
       "    </tr>\n",
       "    <tr>\n",
       "      <th>49995</th>\n",
       "      <td>0</td>\n",
       "      <td>0</td>\n",
       "      <td>0</td>\n",
       "      <td>0</td>\n",
       "      <td>0</td>\n",
       "      <td>0</td>\n",
       "      <td>0</td>\n",
       "      <td>0</td>\n",
       "      <td>0</td>\n",
       "      <td>0</td>\n",
       "      <td>...</td>\n",
       "      <td>0</td>\n",
       "      <td>0</td>\n",
       "      <td>0</td>\n",
       "      <td>0</td>\n",
       "      <td>0</td>\n",
       "      <td>0</td>\n",
       "      <td>0</td>\n",
       "      <td>0</td>\n",
       "      <td>1</td>\n",
       "      <td>0</td>\n",
       "    </tr>\n",
       "    <tr>\n",
       "      <th>49996</th>\n",
       "      <td>0</td>\n",
       "      <td>0</td>\n",
       "      <td>0</td>\n",
       "      <td>0</td>\n",
       "      <td>0</td>\n",
       "      <td>0</td>\n",
       "      <td>0</td>\n",
       "      <td>0</td>\n",
       "      <td>0</td>\n",
       "      <td>0</td>\n",
       "      <td>...</td>\n",
       "      <td>0</td>\n",
       "      <td>0</td>\n",
       "      <td>0</td>\n",
       "      <td>0</td>\n",
       "      <td>0</td>\n",
       "      <td>0</td>\n",
       "      <td>0</td>\n",
       "      <td>0</td>\n",
       "      <td>0</td>\n",
       "      <td>0</td>\n",
       "    </tr>\n",
       "    <tr>\n",
       "      <th>49997</th>\n",
       "      <td>0</td>\n",
       "      <td>0</td>\n",
       "      <td>0</td>\n",
       "      <td>0</td>\n",
       "      <td>0</td>\n",
       "      <td>0</td>\n",
       "      <td>0</td>\n",
       "      <td>0</td>\n",
       "      <td>0</td>\n",
       "      <td>0</td>\n",
       "      <td>...</td>\n",
       "      <td>0</td>\n",
       "      <td>0</td>\n",
       "      <td>0</td>\n",
       "      <td>0</td>\n",
       "      <td>0</td>\n",
       "      <td>0</td>\n",
       "      <td>0</td>\n",
       "      <td>0</td>\n",
       "      <td>0</td>\n",
       "      <td>0</td>\n",
       "    </tr>\n",
       "    <tr>\n",
       "      <th>49998</th>\n",
       "      <td>0</td>\n",
       "      <td>0</td>\n",
       "      <td>0</td>\n",
       "      <td>0</td>\n",
       "      <td>0</td>\n",
       "      <td>0</td>\n",
       "      <td>0</td>\n",
       "      <td>0</td>\n",
       "      <td>0</td>\n",
       "      <td>0</td>\n",
       "      <td>...</td>\n",
       "      <td>0</td>\n",
       "      <td>0</td>\n",
       "      <td>0</td>\n",
       "      <td>0</td>\n",
       "      <td>0</td>\n",
       "      <td>0</td>\n",
       "      <td>0</td>\n",
       "      <td>0</td>\n",
       "      <td>0</td>\n",
       "      <td>0</td>\n",
       "    </tr>\n",
       "    <tr>\n",
       "      <th>49999</th>\n",
       "      <td>0</td>\n",
       "      <td>0</td>\n",
       "      <td>0</td>\n",
       "      <td>0</td>\n",
       "      <td>0</td>\n",
       "      <td>0</td>\n",
       "      <td>0</td>\n",
       "      <td>0</td>\n",
       "      <td>0</td>\n",
       "      <td>0</td>\n",
       "      <td>...</td>\n",
       "      <td>0</td>\n",
       "      <td>0</td>\n",
       "      <td>0</td>\n",
       "      <td>0</td>\n",
       "      <td>0</td>\n",
       "      <td>0</td>\n",
       "      <td>0</td>\n",
       "      <td>0</td>\n",
       "      <td>0</td>\n",
       "      <td>0</td>\n",
       "    </tr>\n",
       "  </tbody>\n",
       "</table>\n",
       "<p>50000 rows × 1000 columns</p>\n",
       "</div>"
      ],
      "text/plain": [
       "       10 br  10 minutes  20 minutes  90 minutes  about an  about as  \\\n",
       "0          0           0           0           0         0         0   \n",
       "1          0           0           0           0         0         0   \n",
       "2          0           0           0           0         0         0   \n",
       "3          0           0           0           0         0         0   \n",
       "4          0           0           0           0         0         0   \n",
       "...      ...         ...         ...         ...       ...       ...   \n",
       "49995      0           0           0           0         0         0   \n",
       "49996      0           0           0           0         0         0   \n",
       "49997      0           0           0           0         0         0   \n",
       "49998      0           0           0           0         0         0   \n",
       "49999      0           0           0           0         0         0   \n",
       "\n",
       "       about her  absolutely no  across as  acting in  ...  you in  you must  \\\n",
       "0              0              0          0          0  ...       0         0   \n",
       "1              0              0          0          0  ...       0         0   \n",
       "2              0              0          0          0  ...       0         0   \n",
       "3              0              0          0          0  ...       0         1   \n",
       "4              0              0          0          0  ...       0         0   \n",
       "...          ...            ...        ...        ...  ...     ...       ...   \n",
       "49995          0              0          0          0  ...       0         0   \n",
       "49996          0              0          0          0  ...       0         0   \n",
       "49997          0              0          0          0  ...       0         0   \n",
       "49998          0              0          0          0  ...       0         0   \n",
       "49999          0              0          0          0  ...       0         0   \n",
       "\n",
       "       you need  you that  you the  you were  young man  young woman  \\\n",
       "0             0         0        0         0          0            0   \n",
       "1             0         0        0         0          0            0   \n",
       "2             0         0        0         0          0            1   \n",
       "3             0         0        0         0          0            0   \n",
       "4             0         0        0         0          0            0   \n",
       "...         ...       ...      ...       ...        ...          ...   \n",
       "49995         0         0        0         0          0            0   \n",
       "49996         0         0        0         0          0            0   \n",
       "49997         0         0        0         0          0            0   \n",
       "49998         0         0        0         0          0            0   \n",
       "49999         0         0        0         0          0            0   \n",
       "\n",
       "       your life  your own  \n",
       "0              0         0  \n",
       "1              0         0  \n",
       "2              0         0  \n",
       "3              0         0  \n",
       "4              0         0  \n",
       "...          ...       ...  \n",
       "49995          1         0  \n",
       "49996          0         0  \n",
       "49997          0         0  \n",
       "49998          0         0  \n",
       "49999          0         0  \n",
       "\n",
       "[50000 rows x 1000 columns]"
      ]
     },
     "execution_count": 101,
     "metadata": {},
     "output_type": "execute_result"
    }
   ],
   "source": [
    "bow_df = pd.DataFrame(X.toarray(), columns=vectoriseur.get_feature_names_out())\n",
    "bow_df"
   ]
  },
  {
   "cell_type": "markdown",
   "metadata": {},
   "source": [
    "# TP 01-06"
   ]
  },
  {
   "cell_type": "markdown",
   "metadata": {},
   "source": [
    "# Application à notre jet de données\n"
   ]
  },
  {
   "cell_type": "markdown",
   "metadata": {},
   "source": [
    "## Détection de la langue"
   ]
  },
  {
   "cell_type": "markdown",
   "metadata": {},
   "source": [
    "Installation de la bibliothèque \"langdetect\" pour la détection de la langue utilisé dans une phrase"
   ]
  },
  {
   "cell_type": "code",
   "execution_count": 102,
   "metadata": {},
   "outputs": [
    {
     "name": "stdout",
     "output_type": "stream",
     "text": [
      "Requirement already satisfied: langdetect in c:\\users\\hp\\anaconda3\\lib\\site-packages (1.0.9)\n",
      "Requirement already satisfied: six in c:\\users\\hp\\anaconda3\\lib\\site-packages (from langdetect) (1.16.0)\n"
     ]
    }
   ],
   "source": [
    "!pip install langdetect"
   ]
  },
  {
   "cell_type": "markdown",
   "metadata": {},
   "source": [
    "Exemple d'application avec une fonction \"langue_utilisé_pourcentage\" pour connaître la langue utilisé dans une phrase et la probabilité"
   ]
  },
  {
   "cell_type": "code",
   "execution_count": 103,
   "metadata": {},
   "outputs": [],
   "source": [
    "from langdetect import detect_langs\n",
    "\n",
    "def langue_utilisé_pourcentage(text):\n",
    "    try:\n",
    "        # Détecter les langues et leurs probabilités\n",
    "        langs = detect_langs(text)\n",
    "        return {str(lang.lang): round(lang.prob * 100, 2) for lang in langs}\n",
    "    except:\n",
    "        return {\"unknown\": 100.0} "
   ]
  },
  {
   "cell_type": "markdown",
   "metadata": {},
   "source": [
    "Exemple d'utilisation sur une phrase"
   ]
  },
  {
   "cell_type": "code",
   "execution_count": 104,
   "metadata": {},
   "outputs": [
    {
     "name": "stdout",
     "output_type": "stream",
     "text": [
      "{'fr': 100.0}\n"
     ]
    }
   ],
   "source": [
    "print(langue_utilisé_pourcentage(\"Ce film est génial et passionnant !\")) "
   ]
  },
  {
   "cell_type": "markdown",
   "metadata": {},
   "source": [
    "Application de la détection sur les 30 premières lignes de notre jet de données"
   ]
  },
  {
   "cell_type": "code",
   "execution_count": 105,
   "metadata": {},
   "outputs": [
    {
     "name": "stderr",
     "output_type": "stream",
     "text": [
      "C:\\Users\\hp\\AppData\\Local\\Temp\\ipykernel_4088\\1016905186.py:2: SettingWithCopyWarning: \n",
      "A value is trying to be set on a copy of a slice from a DataFrame.\n",
      "Try using .loc[row_indexer,col_indexer] = value instead\n",
      "\n",
      "See the caveats in the documentation: https://pandas.pydata.org/pandas-docs/stable/user_guide/indexing.html#returning-a-view-versus-a-copy\n",
      "  df2['langue_utilsé_pourcentage'] = df2['review'].apply(langue_utilisé_pourcentage)\n"
     ]
    },
    {
     "data": {
      "text/html": [
       "<div>\n",
       "<style scoped>\n",
       "    .dataframe tbody tr th:only-of-type {\n",
       "        vertical-align: middle;\n",
       "    }\n",
       "\n",
       "    .dataframe tbody tr th {\n",
       "        vertical-align: top;\n",
       "    }\n",
       "\n",
       "    .dataframe thead th {\n",
       "        text-align: right;\n",
       "    }\n",
       "</style>\n",
       "<table border=\"1\" class=\"dataframe\">\n",
       "  <thead>\n",
       "    <tr style=\"text-align: right;\">\n",
       "      <th></th>\n",
       "      <th>review</th>\n",
       "      <th>sentiment</th>\n",
       "      <th>langue_utilsé_pourcentage</th>\n",
       "    </tr>\n",
       "  </thead>\n",
       "  <tbody>\n",
       "    <tr>\n",
       "      <th>0</th>\n",
       "      <td>One of the other reviewers has mentioned that ...</td>\n",
       "      <td>positive</td>\n",
       "      <td>{'en': 100.0}</td>\n",
       "    </tr>\n",
       "    <tr>\n",
       "      <th>1</th>\n",
       "      <td>A wonderful little production. &lt;br /&gt;&lt;br /&gt;The...</td>\n",
       "      <td>positive</td>\n",
       "      <td>{'en': 100.0}</td>\n",
       "    </tr>\n",
       "    <tr>\n",
       "      <th>2</th>\n",
       "      <td>I thought this was a wonderful way to spend ti...</td>\n",
       "      <td>positive</td>\n",
       "      <td>{'en': 100.0}</td>\n",
       "    </tr>\n",
       "    <tr>\n",
       "      <th>3</th>\n",
       "      <td>Basically there's a family where a little boy ...</td>\n",
       "      <td>negative</td>\n",
       "      <td>{'en': 100.0}</td>\n",
       "    </tr>\n",
       "    <tr>\n",
       "      <th>4</th>\n",
       "      <td>Petter Mattei's \"Love in the Time of Money\" is...</td>\n",
       "      <td>positive</td>\n",
       "      <td>{'en': 100.0}</td>\n",
       "    </tr>\n",
       "    <tr>\n",
       "      <th>5</th>\n",
       "      <td>Probably my all-time favorite movie, a story o...</td>\n",
       "      <td>positive</td>\n",
       "      <td>{'en': 100.0}</td>\n",
       "    </tr>\n",
       "    <tr>\n",
       "      <th>6</th>\n",
       "      <td>I sure would like to see a resurrection of a u...</td>\n",
       "      <td>positive</td>\n",
       "      <td>{'en': 100.0}</td>\n",
       "    </tr>\n",
       "    <tr>\n",
       "      <th>7</th>\n",
       "      <td>This show was an amazing, fresh &amp; innovative i...</td>\n",
       "      <td>negative</td>\n",
       "      <td>{'en': 100.0}</td>\n",
       "    </tr>\n",
       "    <tr>\n",
       "      <th>8</th>\n",
       "      <td>Encouraged by the positive comments about this...</td>\n",
       "      <td>negative</td>\n",
       "      <td>{'en': 100.0}</td>\n",
       "    </tr>\n",
       "    <tr>\n",
       "      <th>9</th>\n",
       "      <td>If you like original gut wrenching laughter yo...</td>\n",
       "      <td>positive</td>\n",
       "      <td>{'en': 100.0}</td>\n",
       "    </tr>\n",
       "    <tr>\n",
       "      <th>10</th>\n",
       "      <td>Phil the Alien is one of those quirky films wh...</td>\n",
       "      <td>negative</td>\n",
       "      <td>{'en': 100.0}</td>\n",
       "    </tr>\n",
       "    <tr>\n",
       "      <th>11</th>\n",
       "      <td>I saw this movie when I was about 12 when it c...</td>\n",
       "      <td>negative</td>\n",
       "      <td>{'en': 100.0}</td>\n",
       "    </tr>\n",
       "    <tr>\n",
       "      <th>12</th>\n",
       "      <td>So im not a big fan of Boll's work but then ag...</td>\n",
       "      <td>negative</td>\n",
       "      <td>{'en': 100.0}</td>\n",
       "    </tr>\n",
       "    <tr>\n",
       "      <th>13</th>\n",
       "      <td>The cast played Shakespeare.&lt;br /&gt;&lt;br /&gt;Shakes...</td>\n",
       "      <td>negative</td>\n",
       "      <td>{'en': 100.0}</td>\n",
       "    </tr>\n",
       "    <tr>\n",
       "      <th>14</th>\n",
       "      <td>This a fantastic movie of three prisoners who ...</td>\n",
       "      <td>positive</td>\n",
       "      <td>{'en': 100.0}</td>\n",
       "    </tr>\n",
       "    <tr>\n",
       "      <th>15</th>\n",
       "      <td>Kind of drawn in by the erotic scenes, only to...</td>\n",
       "      <td>negative</td>\n",
       "      <td>{'en': 100.0}</td>\n",
       "    </tr>\n",
       "    <tr>\n",
       "      <th>16</th>\n",
       "      <td>Some films just simply should not be remade. T...</td>\n",
       "      <td>positive</td>\n",
       "      <td>{'en': 100.0}</td>\n",
       "    </tr>\n",
       "    <tr>\n",
       "      <th>17</th>\n",
       "      <td>This movie made it into one of my top 10 most ...</td>\n",
       "      <td>negative</td>\n",
       "      <td>{'en': 100.0}</td>\n",
       "    </tr>\n",
       "    <tr>\n",
       "      <th>18</th>\n",
       "      <td>I remember this film,it was the first film i h...</td>\n",
       "      <td>positive</td>\n",
       "      <td>{'en': 100.0}</td>\n",
       "    </tr>\n",
       "    <tr>\n",
       "      <th>19</th>\n",
       "      <td>An awful film! It must have been up against so...</td>\n",
       "      <td>negative</td>\n",
       "      <td>{'en': 100.0}</td>\n",
       "    </tr>\n",
       "    <tr>\n",
       "      <th>20</th>\n",
       "      <td>After the success of Die Hard and it's sequels...</td>\n",
       "      <td>positive</td>\n",
       "      <td>{'en': 100.0}</td>\n",
       "    </tr>\n",
       "    <tr>\n",
       "      <th>21</th>\n",
       "      <td>I had the terrible misfortune of having to vie...</td>\n",
       "      <td>negative</td>\n",
       "      <td>{'en': 100.0}</td>\n",
       "    </tr>\n",
       "    <tr>\n",
       "      <th>22</th>\n",
       "      <td>What an absolutely stunning movie, if you have...</td>\n",
       "      <td>positive</td>\n",
       "      <td>{'en': 100.0}</td>\n",
       "    </tr>\n",
       "    <tr>\n",
       "      <th>23</th>\n",
       "      <td>First of all, let's get a few things straight ...</td>\n",
       "      <td>negative</td>\n",
       "      <td>{'en': 100.0}</td>\n",
       "    </tr>\n",
       "    <tr>\n",
       "      <th>24</th>\n",
       "      <td>This was the worst movie I saw at WorldFest an...</td>\n",
       "      <td>negative</td>\n",
       "      <td>{'en': 100.0}</td>\n",
       "    </tr>\n",
       "    <tr>\n",
       "      <th>25</th>\n",
       "      <td>The Karen Carpenter Story shows a little more ...</td>\n",
       "      <td>positive</td>\n",
       "      <td>{'en': 100.0}</td>\n",
       "    </tr>\n",
       "    <tr>\n",
       "      <th>26</th>\n",
       "      <td>\"The Cell\" is an exotic masterpiece, a dizzyin...</td>\n",
       "      <td>positive</td>\n",
       "      <td>{'en': 100.0}</td>\n",
       "    </tr>\n",
       "    <tr>\n",
       "      <th>27</th>\n",
       "      <td>This film tried to be too many things all at o...</td>\n",
       "      <td>negative</td>\n",
       "      <td>{'en': 100.0}</td>\n",
       "    </tr>\n",
       "    <tr>\n",
       "      <th>28</th>\n",
       "      <td>This movie was so frustrating. Everything seem...</td>\n",
       "      <td>negative</td>\n",
       "      <td>{'en': 100.0}</td>\n",
       "    </tr>\n",
       "    <tr>\n",
       "      <th>29</th>\n",
       "      <td>'War movie' is a Hollywood genre that has been...</td>\n",
       "      <td>positive</td>\n",
       "      <td>{'en': 100.0}</td>\n",
       "    </tr>\n",
       "  </tbody>\n",
       "</table>\n",
       "</div>"
      ],
      "text/plain": [
       "                                               review sentiment  \\\n",
       "0   One of the other reviewers has mentioned that ...  positive   \n",
       "1   A wonderful little production. <br /><br />The...  positive   \n",
       "2   I thought this was a wonderful way to spend ti...  positive   \n",
       "3   Basically there's a family where a little boy ...  negative   \n",
       "4   Petter Mattei's \"Love in the Time of Money\" is...  positive   \n",
       "5   Probably my all-time favorite movie, a story o...  positive   \n",
       "6   I sure would like to see a resurrection of a u...  positive   \n",
       "7   This show was an amazing, fresh & innovative i...  negative   \n",
       "8   Encouraged by the positive comments about this...  negative   \n",
       "9   If you like original gut wrenching laughter yo...  positive   \n",
       "10  Phil the Alien is one of those quirky films wh...  negative   \n",
       "11  I saw this movie when I was about 12 when it c...  negative   \n",
       "12  So im not a big fan of Boll's work but then ag...  negative   \n",
       "13  The cast played Shakespeare.<br /><br />Shakes...  negative   \n",
       "14  This a fantastic movie of three prisoners who ...  positive   \n",
       "15  Kind of drawn in by the erotic scenes, only to...  negative   \n",
       "16  Some films just simply should not be remade. T...  positive   \n",
       "17  This movie made it into one of my top 10 most ...  negative   \n",
       "18  I remember this film,it was the first film i h...  positive   \n",
       "19  An awful film! It must have been up against so...  negative   \n",
       "20  After the success of Die Hard and it's sequels...  positive   \n",
       "21  I had the terrible misfortune of having to vie...  negative   \n",
       "22  What an absolutely stunning movie, if you have...  positive   \n",
       "23  First of all, let's get a few things straight ...  negative   \n",
       "24  This was the worst movie I saw at WorldFest an...  negative   \n",
       "25  The Karen Carpenter Story shows a little more ...  positive   \n",
       "26  \"The Cell\" is an exotic masterpiece, a dizzyin...  positive   \n",
       "27  This film tried to be too many things all at o...  negative   \n",
       "28  This movie was so frustrating. Everything seem...  negative   \n",
       "29  'War movie' is a Hollywood genre that has been...  positive   \n",
       "\n",
       "   langue_utilsé_pourcentage  \n",
       "0              {'en': 100.0}  \n",
       "1              {'en': 100.0}  \n",
       "2              {'en': 100.0}  \n",
       "3              {'en': 100.0}  \n",
       "4              {'en': 100.0}  \n",
       "5              {'en': 100.0}  \n",
       "6              {'en': 100.0}  \n",
       "7              {'en': 100.0}  \n",
       "8              {'en': 100.0}  \n",
       "9              {'en': 100.0}  \n",
       "10             {'en': 100.0}  \n",
       "11             {'en': 100.0}  \n",
       "12             {'en': 100.0}  \n",
       "13             {'en': 100.0}  \n",
       "14             {'en': 100.0}  \n",
       "15             {'en': 100.0}  \n",
       "16             {'en': 100.0}  \n",
       "17             {'en': 100.0}  \n",
       "18             {'en': 100.0}  \n",
       "19             {'en': 100.0}  \n",
       "20             {'en': 100.0}  \n",
       "21             {'en': 100.0}  \n",
       "22             {'en': 100.0}  \n",
       "23             {'en': 100.0}  \n",
       "24             {'en': 100.0}  \n",
       "25             {'en': 100.0}  \n",
       "26             {'en': 100.0}  \n",
       "27             {'en': 100.0}  \n",
       "28             {'en': 100.0}  \n",
       "29             {'en': 100.0}  "
      ]
     },
     "execution_count": 105,
     "metadata": {},
     "output_type": "execute_result"
    }
   ],
   "source": [
    "df2 = df.head(30)  \n",
    "df2['langue_utilsé_pourcentage'] = df2['review'].apply(langue_utilisé_pourcentage)\n",
    "df2"
   ]
  },
  {
   "cell_type": "markdown",
   "metadata": {},
   "source": [
    " Affichage du vocabulaire"
   ]
  },
  {
   "cell_type": "code",
   "execution_count": 106,
   "metadata": {},
   "outputs": [
    {
     "name": "stdout",
     "output_type": "stream",
     "text": [
      "Vocabulaire : ['10 br' '10 minutes' '20 minutes' '90 minutes' 'about an' 'about as'\n",
      " 'about her' 'absolutely no' 'across as' 'acting in' 'action and'\n",
      " 'action movie' 'action scenes' 'adaptation of' 'add to' 'admit that'\n",
      " 'after that' 'after this' 'again br' 'again the' 'ago and' 'all but'\n",
      " 'all his' 'all those' 'also has' 'also very' 'an action' 'an amazing'\n",
      " 'an oscar' 'and acting' 'and again' 'and am' 'and bad' 'and be' 'and by'\n",
      " 'and didn' 'and do' 'and does' 'and doesn' 'and enjoy' 'and finally'\n",
      " 'and found' 'and funny' 'and go' 'and great' 'and made' 'and makes'\n",
      " 'and many' 'and or' 'and out' 'and yes' 'any more' 'anything else'\n",
      " 'anything to' 'appeal to' 'are few' 'are going' 'are good' 'are great'\n",
      " 'are many' 'are more' 'are really' 'are still' 'are you' 'around in'\n",
      " 'as always' 'as being' 'as is' 'as long' 'as possible' 'as some'\n",
      " 'as soon' 'as though' 'as usual' 'aside from' 'aspect of' 'aspects of'\n",
      " 'at her' 'at home' 'at some' 'attempt at' 'attention to' 'avoid this'\n",
      " 'away with' 'bad but' 'bad movies' 'bad that' 'be better'\n",
      " 'be disappointed' 'be funny' 'be honest' 'be made' 'be very'\n",
      " 'because she' 'because there' 'because this' 'because you' 'been better'\n",
      " 'been done' 'been in' 'been made' 'been more' 'been the' 'before he'\n",
      " 'before it' 'begin to' 'beginning to' 'begins to' 'believe it'\n",
      " 'best friend' 'better and' 'big fan' 'big screen' 'bit more' 'book and'\n",
      " 'both of' 'both the' 'box office' 'br after' 'br at' 'br can' 'br first'\n",
      " 'br have' 'br however' 'br of' 'br on' 'br out' 'br some' 'br that'\n",
      " 'br then' 'br think' 'br was' 'br we' 'br well' 'br while' 'but after'\n",
      " 'but all' 'but can' 'but have' 'but his' 'but instead' 'but just'\n",
      " 'but never' 'but really' 'but we' 'buy it' 'by all' 'by her' 'by one'\n",
      " 'by some' 'call it' 'came to' 'can even' 'can find' 'can help' 'can make'\n",
      " 'can really' 'can think' 'case of' 'character was' 'characters that'\n",
      " 'characters the' 'come up' 'comedy and' 'comes out' 'copy of' 'day and'\n",
      " 'dealing with' 'deals with' 'death of' 'decide to' 'dialogue and'\n",
      " 'dialogue is' 'did it' 'did they' 'didn even' 'didn know' 'didn like'\n",
      " 'direction and' 'direction is' 'director of' 'do so' 'do that' 'do this'\n",
      " 'does have' 'does the' 'doesn even' 'doesn make' 'don care' 'don see'\n",
      " 'don waste' 'don watch' 'done in' 'each of' 'edge of' 'effects and'\n",
      " 'elements of' 'end and' 'end br' 'end it' 'ended up' 'enjoyed it'\n",
      " 'enjoyed this' 'entertaining and' 'entire film' 'entire movie'\n",
      " 'episode of' 'especially when' 'even when' 'even worse' 'every scene'\n",
      " 'every single' 'everyone else' 'everything is' 'everything that'\n",
      " 'exactly what' 'excuse for' 'fact it' 'fact the' 'fails to' 'falls in'\n",
      " 'familiar with' 'far the' 'far too' 'father and' 'feel that' 'feel the'\n",
      " 'feeling of' 'feels like' 'felt like' 'few years' 'fight scenes'\n",
      " 'film are' 'film does' 'film festival' 'film from' 'film had' 'film have'\n",
      " 'film he' 'film if' 'film like' 'film makers' 'film on' 'film so'\n",
      " 'film there' 'film would' 'filmed in' 'films are' 'films but'\n",
      " 'films have' 'films in' 'find this' 'first and' 'first film' 'first half'\n",
      " 'first movie' 'first one' 'first place' 'first saw' 'five minutes'\n",
      " 'for anyone' 'for being' 'for everyone' 'for film' 'for instance'\n",
      " 'for more' 'for movie' 'for my' 'for no' 'for something' 'for tv'\n",
      " 'for years' 'form of' 'found myself' 'found this' 'from an' 'from being'\n",
      " 'from her' 'from it' 'from one' 'from that' 'fun and' 'fun of' 'gave it'\n",
      " 'get into' 'get me' 'get out' 'gets the' 'gets to' 'gives the' 'go and'\n",
      " 'go back' 'go into' 'go see' 'going for' 'good br' 'good for' 'good to'\n",
      " 'great job' 'happen to' 'has done' 'has never' 'has not' 'has nothing'\n",
      " 'have it' 'having to' 'he and' 'he didn' 'he goes' 'he got' 'he made'\n",
      " 'he not' 'he plays' 'he really' 'he should' 'he wants' 'he will'\n",
      " 'help but' 'her character' 'her father' 'her life' 'her mother'\n",
      " 'her role' 'here br' 'here in' 'highly recommended' 'him for' 'him he'\n",
      " 'his brother' 'his career' 'his family' 'his films' 'his first'\n",
      " 'his head' 'his mother' 'his performance' 'his son' 'his way' 'his work'\n",
      " 'history of' 'home and' 'horror films' 'hours of' 'house and' 'house of'\n",
      " 'how can' 'how he' 'how this' 'however it' 'humor and' 'if only' 'if she'\n",
      " 'if we' 'if your' 'impossible to' 'in addition' 'in black' 'in general'\n",
      " 'in hollywood' 'in life' 'in on' 'in our' 'in short' 'in small'\n",
      " 'in terms' 'in these' 'in time' 'in very' 'in what' 'in with'\n",
      " 'including the' 'interest in' 'interesting to' 'into an' 'into his'\n",
      " 'into it' 'is amazing' 'is and' 'is another' 'is beautiful' 'is because'\n",
      " 'is being' 'is better' 'is beyond' 'is bit' 'is br' 'is by'\n",
      " 'is certainly' 'is completely' 'is even' 'is full' 'is funny' 'is given'\n",
      " 'is hard' 'is he' 'is his' 'is made' 'is must' 'is of' 'is rather'\n",
      " 'is real' 'is set' 'is such' 'is terrible' 'is totally' 'is true'\n",
      " 'is trying' 'is when' 'is why' 'is wonderful' 'it 10' 'it actually'\n",
      " 'it almost' 'it be' 'it becomes' 'it came' 'it certainly' 'it goes'\n",
      " 'it got' 'it great' 'it into' 'it must' 'it pretty' 'it seemed'\n",
      " 'it there' 'it took' 'it turns' 'it worth' 'its not' 'itself is'\n",
      " 'just because' 'just didn' 'just doesn' 'just for' 'just how' 'just not'\n",
      " 'just one' 'just that' 'just too' 'keep the' 'know if' 'know why'\n",
      " 'known as' 'kung fu' 'last night' 'laugh at' 'leave the' 'life br'\n",
      " 'life the' 'like in' 'liked it' 'liked this' 'listen to' 'little to'\n",
      " 'little too' 'lives of' 'long and' 'long as' 'look for' 'looking at'\n",
      " 'love for' 'made and' 'made to' 'majority of' 'make movie' 'make sense'\n",
      " 'making it' 'making the' 'making this' 'man in' 'man is' 'man with'\n",
      " 'manage to' 'many years' 'martial arts' 'matter how' 'maybe it'\n",
      " 'maybe the' 'me as' 'me in' 'me this' 'members of' 'moments of'\n",
      " 'money and' 'money to' 'more about' 'more and' 'more interesting'\n",
      " 'more to' 'most people' 'mother and' 'movie are' 'movie could'\n",
      " 'movie from' 'movie not' 'movie or' 'movie there' 'movie ve' 'movie when'\n",
      " 'movie will' 'movies are' 'movies in' 'movies of' 'much like' 'much the'\n",
      " 'must say' 'my eyes' 'my friends' 'my wife' 'name of' 'nature of'\n",
      " 'needed to' 'never been' 'never really' 'next to' 'nice to' 'night and'\n",
      " 'no doubt' 'no longer' 'no more' 'no other' 'no reason' 'no way'\n",
      " 'not all' 'not an' 'not funny' 'not going' 'not know' 'not like'\n",
      " 'not quite' 'not too' 'not worth' 'nothing else' 'now and' 'now that'\n",
      " 'now the' 'of action' 'of art' 'of both' 'of character' 'of crap'\n",
      " 'of films' 'of fun' 'of great' 'of horror' 'of human' 'of humor'\n",
      " 'of love' 'of man' 'of many' 'of money' 'of new' 'of such' 'of things'\n",
      " 'of view' 'of war' 'of watching' 'of young' 'off and' 'off with' 'oh and'\n",
      " 'old man' 'on br' 'on earth' 'on film' 'on imdb' 'on one' 'on top'\n",
      " 'on video' 'on your' 'one br' 'one has' 'one liners' 'one night' 'one or'\n",
      " 'one was' 'one who' 'one with' 'one would' 'only good' 'opportunity to'\n",
      " 'or just' 'or maybe' 'original and' 'other people' 'out as' 'out br'\n",
      " 'out loud' 'out what' 'over again' 'part in' 'people have' 'people that'\n",
      " 'people to' 'performance in' 'performance is' 'performance of'\n",
      " 'performances are' 'person who' 'pick up' 'play the' 'played the'\n",
      " 'plot of' 'plot was' 'point in' 'put on' 'quite good' 'ready to'\n",
      " 'realize that' 'really really' 'reason for' 'reason why' 'relate to'\n",
      " 'relationship between' 'relationship with' 'released in' 'remake of'\n",
      " 'remember the' 'reminded me' 'reminds me' 'rent it' 'responsible for'\n",
      " 'return to' 'rip off' 'role and' 'said that' 'save the' 'saying that'\n",
      " 'scene and' 'scene of' 'scene that' 'scenes were' 'scenes with'\n",
      " 'science fiction' 'screen time' 'see him' 'see if' 'see in' 'seeing it'\n",
      " 'seen and' 'serial killer' 'series and' 'several times' 'sex and'\n",
      " 'sex scenes' 'she can' 'she does' 'she doesn' 'should not' 'show and'\n",
      " 'show that' 'shown in' 'shows the' 'small town' 'so called' 'so good'\n",
      " 'so if' 'so we' 'so what' 'so you' 'some great' 'some other'\n",
      " 'some reason' 'some scenes' 'some time' 'some very' 'something about'\n",
      " 'something else' 'soon as' 'sorry for' 'sounds like' 'star trek'\n",
      " 'star wars' 'starts to' 'story br' 'story but' 'story it' 'story with'\n",
      " 'stupid and' 'style of' 'subject matter' 'sure it' 'take it' 'take on'\n",
      " 'takes the' 'tells the' 'tend to' 'terms of' 'than any' 'than it'\n",
      " 'thank you' 'that and' 'that didn' 'that don' 'that even' 'that film'\n",
      " 'that for' 'that good' 'that her' 'that make' 'that most' 'that movie'\n",
      " 'that much' 'that no' 'that only' 'that people' 'that should' 'that some'\n",
      " 'that these' 'that time' 'that way' 'that when' 'the actor' 'the air'\n",
      " 'the animation' 'the art' 'the basic' 'the beautiful' 'the bottom'\n",
      " 'the boy' 'the boys' 'the british' 'the budget' 'the car' 'the casting'\n",
      " 'the chance' 'the children' 'the cinema' 'the classic' 'the comedy'\n",
      " 'the country' 'the cover' 'the credits' 'the crew' 'the devil'\n",
      " 'the doctor' 'the door' 'the earth' 'the edge' 'the editing'\n",
      " 'the effects' 'the english' 'the events' 'the face' 'the father'\n",
      " 'the feeling' 'the female' 'the fight' 'the french' 'the game'\n",
      " 'the general' 'the gore' 'the group' 'the heart' 'the hero' 'the high'\n",
      " 'the history' 'the horror' 'the humor' 'the island' 'the kid' 'the king'\n",
      " 'the line' 'the lines' 'the lives' 'the long' 'the many' 'the men'\n",
      " 'the message' 'the moment' 'the monster' 'the mood' 'the mother'\n",
      " 'the murder' 'the novel' 'the ones' 'the overall' 'the person'\n",
      " 'the place' 'the play' 'the poor' 'the power' 'the public' 'the quality'\n",
      " 'the relationship' 'the road' 'the set' 'the situation' 'the song'\n",
      " 'the songs' 'the star' 'the street' 'the things' 'the town' 'the trailer'\n",
      " 'the true' 'the us' 'the use' 'the villain' 'the voice' 'the women'\n",
      " 'the woods' 'the wrong' 'the years' 'them all' 'then again' 'then he'\n",
      " 'then they' 'then this' 'there isn' 'there nothing' 'these days'\n",
      " 'they made' 'they make' 'they ve' 'they will' 'thing to' 'things to'\n",
      " 'think he' 'think they' 'think you' 'this but' 'this could'\n",
      " 'this episode' 'this guy' 'this it' 'this kind' 'this on' 'this piece'\n",
      " 'this review' 'this role' 'this thing' 'those movies' 'those of'\n",
      " 'though he' 'thought this' 'through it' 'through this' 'time but'\n",
      " 'time for' 'time he' 'time on' 'time when' 'time with' 'time you'\n",
      " 'to act' 'to add' 'to admit' 'to another' 'to any' 'to avoid' 'to begin'\n",
      " 'to buy' 'to catch' 'to change' 'to death' 'to describe' 'to die'\n",
      " 'to each' 'to escape' 'to explain' 'to feel' 'to fight' 'to figure'\n",
      " 'to film' 'to happen' 'to hear' 'to laugh' 'to learn' 'to let' 'to love'\n",
      " 'to not' 'to one' 'to pay' 'to read' 'to speak' 'to spend' 'to those'\n",
      " 'to video' 'to your' 'together and' 'true story' 'true to' 'try and'\n",
      " 'turned out' 'tv movie' 'tv series' 'tv show' 'two hours' 'unable to'\n",
      " 'understand why' 'unfortunately the' 'up as' 'up at' 'us the' 'used in'\n",
      " 'very bad' 'very interesting' 'view of' 'violence and' 'wait for'\n",
      " 'wanting to' 'was all' 'was as' 'was at' 'was bad' 'was little'\n",
      " 'was never' 'was only' 'was probably' 'was quite' 'was released'\n",
      " 'was shot' 'was still' 'was supposed' 'was too' 'was watching'\n",
      " 'watch and' 'way and' 'way br' 'way he' 'way they' 'we don' 'we ve'\n",
      " 'well br' 'well in' 'well known' 'well made' 'well with' 'well worth'\n",
      " 'well written' 'went on' 'were all' 'were in' 'were so' 'what can'\n",
      " 'what really' 'what she' 'what this' 'when this' 'when we' 'where she'\n",
      " 'where you' 'which has' 'which makes' 'while it' 'who played' 'who the'\n",
      " 'who wants' 'who were' 'who would' 'whole film' 'why did' 'why he'\n",
      " 'why is' 'why it' 'why they' 'why this' 'will make' 'will probably'\n",
      " 'with each' 'with good' 'with little' 'with me' 'with more' 'with very'\n",
      " 'with what' 'with your' 'without any' 'won be' 'wonder if' 'work in'\n",
      " 'work with' 'world and' 'world war' 'worst film' 'worst movies'\n",
      " 'would make' 'would never' 'would recommend' 'would say'\n",
      " 'writer director' 'written and' 'years and' 'years of' 'yes it'\n",
      " 'yet another' 'you and' 'you feel' 'you haven' 'you in' 'you must'\n",
      " 'you need' 'you that' 'you the' 'you were' 'young man' 'young woman'\n",
      " 'your life' 'your own']\n"
     ]
    }
   ],
   "source": [
    "print(\"Vocabulaire :\", vectoriseur.get_feature_names_out())"
   ]
  },
  {
   "cell_type": "markdown",
   "metadata": {},
   "source": [
    "#  Création d'un modèle de régression logistique à l'aide tweets de l'ensemble de données."
   ]
  },
  {
   "cell_type": "markdown",
   "metadata": {},
   "source": [
    "# TP 01-07"
   ]
  },
  {
   "cell_type": "markdown",
   "metadata": {},
   "source": [
    "Chargement et affichage de l'ensemble de données"
   ]
  },
  {
   "cell_type": "code",
   "execution_count": 107,
   "metadata": {},
   "outputs": [
    {
     "data": {
      "text/html": [
       "<div>\n",
       "<style scoped>\n",
       "    .dataframe tbody tr th:only-of-type {\n",
       "        vertical-align: middle;\n",
       "    }\n",
       "\n",
       "    .dataframe tbody tr th {\n",
       "        vertical-align: top;\n",
       "    }\n",
       "\n",
       "    .dataframe thead th {\n",
       "        text-align: right;\n",
       "    }\n",
       "</style>\n",
       "<table border=\"1\" class=\"dataframe\">\n",
       "  <thead>\n",
       "    <tr style=\"text-align: right;\">\n",
       "      <th></th>\n",
       "      <th>tweet_id</th>\n",
       "      <th>airline_sentiment</th>\n",
       "      <th>airline_sentiment_confidence</th>\n",
       "      <th>negativereason</th>\n",
       "      <th>negativereason_confidence</th>\n",
       "      <th>airline</th>\n",
       "      <th>airline_sentiment_gold</th>\n",
       "      <th>name</th>\n",
       "      <th>negativereason_gold</th>\n",
       "      <th>retweet_count</th>\n",
       "      <th>text</th>\n",
       "      <th>tweet_coord</th>\n",
       "      <th>tweet_created</th>\n",
       "      <th>tweet_location</th>\n",
       "      <th>user_timezone</th>\n",
       "    </tr>\n",
       "  </thead>\n",
       "  <tbody>\n",
       "    <tr>\n",
       "      <th>0</th>\n",
       "      <td>570306133677760513</td>\n",
       "      <td>neutral</td>\n",
       "      <td>1.0000</td>\n",
       "      <td>NaN</td>\n",
       "      <td>NaN</td>\n",
       "      <td>Virgin America</td>\n",
       "      <td>NaN</td>\n",
       "      <td>cairdin</td>\n",
       "      <td>NaN</td>\n",
       "      <td>0</td>\n",
       "      <td>@VirginAmerica What @dhepburn said.</td>\n",
       "      <td>NaN</td>\n",
       "      <td>2015-02-24 11:35:52 -0800</td>\n",
       "      <td>NaN</td>\n",
       "      <td>Eastern Time (US &amp; Canada)</td>\n",
       "    </tr>\n",
       "    <tr>\n",
       "      <th>1</th>\n",
       "      <td>570301130888122368</td>\n",
       "      <td>positive</td>\n",
       "      <td>0.3486</td>\n",
       "      <td>NaN</td>\n",
       "      <td>0.0000</td>\n",
       "      <td>Virgin America</td>\n",
       "      <td>NaN</td>\n",
       "      <td>jnardino</td>\n",
       "      <td>NaN</td>\n",
       "      <td>0</td>\n",
       "      <td>@VirginAmerica plus you've added commercials t...</td>\n",
       "      <td>NaN</td>\n",
       "      <td>2015-02-24 11:15:59 -0800</td>\n",
       "      <td>NaN</td>\n",
       "      <td>Pacific Time (US &amp; Canada)</td>\n",
       "    </tr>\n",
       "    <tr>\n",
       "      <th>2</th>\n",
       "      <td>570301083672813571</td>\n",
       "      <td>neutral</td>\n",
       "      <td>0.6837</td>\n",
       "      <td>NaN</td>\n",
       "      <td>NaN</td>\n",
       "      <td>Virgin America</td>\n",
       "      <td>NaN</td>\n",
       "      <td>yvonnalynn</td>\n",
       "      <td>NaN</td>\n",
       "      <td>0</td>\n",
       "      <td>@VirginAmerica I didn't today... Must mean I n...</td>\n",
       "      <td>NaN</td>\n",
       "      <td>2015-02-24 11:15:48 -0800</td>\n",
       "      <td>Lets Play</td>\n",
       "      <td>Central Time (US &amp; Canada)</td>\n",
       "    </tr>\n",
       "    <tr>\n",
       "      <th>3</th>\n",
       "      <td>570301031407624196</td>\n",
       "      <td>negative</td>\n",
       "      <td>1.0000</td>\n",
       "      <td>Bad Flight</td>\n",
       "      <td>0.7033</td>\n",
       "      <td>Virgin America</td>\n",
       "      <td>NaN</td>\n",
       "      <td>jnardino</td>\n",
       "      <td>NaN</td>\n",
       "      <td>0</td>\n",
       "      <td>@VirginAmerica it's really aggressive to blast...</td>\n",
       "      <td>NaN</td>\n",
       "      <td>2015-02-24 11:15:36 -0800</td>\n",
       "      <td>NaN</td>\n",
       "      <td>Pacific Time (US &amp; Canada)</td>\n",
       "    </tr>\n",
       "    <tr>\n",
       "      <th>4</th>\n",
       "      <td>570300817074462722</td>\n",
       "      <td>negative</td>\n",
       "      <td>1.0000</td>\n",
       "      <td>Can't Tell</td>\n",
       "      <td>1.0000</td>\n",
       "      <td>Virgin America</td>\n",
       "      <td>NaN</td>\n",
       "      <td>jnardino</td>\n",
       "      <td>NaN</td>\n",
       "      <td>0</td>\n",
       "      <td>@VirginAmerica and it's a really big bad thing...</td>\n",
       "      <td>NaN</td>\n",
       "      <td>2015-02-24 11:14:45 -0800</td>\n",
       "      <td>NaN</td>\n",
       "      <td>Pacific Time (US &amp; Canada)</td>\n",
       "    </tr>\n",
       "    <tr>\n",
       "      <th>...</th>\n",
       "      <td>...</td>\n",
       "      <td>...</td>\n",
       "      <td>...</td>\n",
       "      <td>...</td>\n",
       "      <td>...</td>\n",
       "      <td>...</td>\n",
       "      <td>...</td>\n",
       "      <td>...</td>\n",
       "      <td>...</td>\n",
       "      <td>...</td>\n",
       "      <td>...</td>\n",
       "      <td>...</td>\n",
       "      <td>...</td>\n",
       "      <td>...</td>\n",
       "      <td>...</td>\n",
       "    </tr>\n",
       "    <tr>\n",
       "      <th>14635</th>\n",
       "      <td>569587686496825344</td>\n",
       "      <td>positive</td>\n",
       "      <td>0.3487</td>\n",
       "      <td>NaN</td>\n",
       "      <td>0.0000</td>\n",
       "      <td>American</td>\n",
       "      <td>NaN</td>\n",
       "      <td>KristenReenders</td>\n",
       "      <td>NaN</td>\n",
       "      <td>0</td>\n",
       "      <td>@AmericanAir thank you we got on a different f...</td>\n",
       "      <td>NaN</td>\n",
       "      <td>2015-02-22 12:01:01 -0800</td>\n",
       "      <td>NaN</td>\n",
       "      <td>NaN</td>\n",
       "    </tr>\n",
       "    <tr>\n",
       "      <th>14636</th>\n",
       "      <td>569587371693355008</td>\n",
       "      <td>negative</td>\n",
       "      <td>1.0000</td>\n",
       "      <td>Customer Service Issue</td>\n",
       "      <td>1.0000</td>\n",
       "      <td>American</td>\n",
       "      <td>NaN</td>\n",
       "      <td>itsropes</td>\n",
       "      <td>NaN</td>\n",
       "      <td>0</td>\n",
       "      <td>@AmericanAir leaving over 20 minutes Late Flig...</td>\n",
       "      <td>NaN</td>\n",
       "      <td>2015-02-22 11:59:46 -0800</td>\n",
       "      <td>Texas</td>\n",
       "      <td>NaN</td>\n",
       "    </tr>\n",
       "    <tr>\n",
       "      <th>14637</th>\n",
       "      <td>569587242672398336</td>\n",
       "      <td>neutral</td>\n",
       "      <td>1.0000</td>\n",
       "      <td>NaN</td>\n",
       "      <td>NaN</td>\n",
       "      <td>American</td>\n",
       "      <td>NaN</td>\n",
       "      <td>sanyabun</td>\n",
       "      <td>NaN</td>\n",
       "      <td>0</td>\n",
       "      <td>@AmericanAir Please bring American Airlines to...</td>\n",
       "      <td>NaN</td>\n",
       "      <td>2015-02-22 11:59:15 -0800</td>\n",
       "      <td>Nigeria,lagos</td>\n",
       "      <td>NaN</td>\n",
       "    </tr>\n",
       "    <tr>\n",
       "      <th>14638</th>\n",
       "      <td>569587188687634433</td>\n",
       "      <td>negative</td>\n",
       "      <td>1.0000</td>\n",
       "      <td>Customer Service Issue</td>\n",
       "      <td>0.6659</td>\n",
       "      <td>American</td>\n",
       "      <td>NaN</td>\n",
       "      <td>SraJackson</td>\n",
       "      <td>NaN</td>\n",
       "      <td>0</td>\n",
       "      <td>@AmericanAir you have my money, you change my ...</td>\n",
       "      <td>NaN</td>\n",
       "      <td>2015-02-22 11:59:02 -0800</td>\n",
       "      <td>New Jersey</td>\n",
       "      <td>Eastern Time (US &amp; Canada)</td>\n",
       "    </tr>\n",
       "    <tr>\n",
       "      <th>14639</th>\n",
       "      <td>569587140490866689</td>\n",
       "      <td>neutral</td>\n",
       "      <td>0.6771</td>\n",
       "      <td>NaN</td>\n",
       "      <td>0.0000</td>\n",
       "      <td>American</td>\n",
       "      <td>NaN</td>\n",
       "      <td>daviddtwu</td>\n",
       "      <td>NaN</td>\n",
       "      <td>0</td>\n",
       "      <td>@AmericanAir we have 8 ppl so we need 2 know h...</td>\n",
       "      <td>NaN</td>\n",
       "      <td>2015-02-22 11:58:51 -0800</td>\n",
       "      <td>dallas, TX</td>\n",
       "      <td>NaN</td>\n",
       "    </tr>\n",
       "  </tbody>\n",
       "</table>\n",
       "<p>14640 rows × 15 columns</p>\n",
       "</div>"
      ],
      "text/plain": [
       "                 tweet_id airline_sentiment  airline_sentiment_confidence  \\\n",
       "0      570306133677760513           neutral                        1.0000   \n",
       "1      570301130888122368          positive                        0.3486   \n",
       "2      570301083672813571           neutral                        0.6837   \n",
       "3      570301031407624196          negative                        1.0000   \n",
       "4      570300817074462722          negative                        1.0000   \n",
       "...                   ...               ...                           ...   \n",
       "14635  569587686496825344          positive                        0.3487   \n",
       "14636  569587371693355008          negative                        1.0000   \n",
       "14637  569587242672398336           neutral                        1.0000   \n",
       "14638  569587188687634433          negative                        1.0000   \n",
       "14639  569587140490866689           neutral                        0.6771   \n",
       "\n",
       "               negativereason  negativereason_confidence         airline  \\\n",
       "0                         NaN                        NaN  Virgin America   \n",
       "1                         NaN                     0.0000  Virgin America   \n",
       "2                         NaN                        NaN  Virgin America   \n",
       "3                  Bad Flight                     0.7033  Virgin America   \n",
       "4                  Can't Tell                     1.0000  Virgin America   \n",
       "...                       ...                        ...             ...   \n",
       "14635                     NaN                     0.0000        American   \n",
       "14636  Customer Service Issue                     1.0000        American   \n",
       "14637                     NaN                        NaN        American   \n",
       "14638  Customer Service Issue                     0.6659        American   \n",
       "14639                     NaN                     0.0000        American   \n",
       "\n",
       "      airline_sentiment_gold             name negativereason_gold  \\\n",
       "0                        NaN          cairdin                 NaN   \n",
       "1                        NaN         jnardino                 NaN   \n",
       "2                        NaN       yvonnalynn                 NaN   \n",
       "3                        NaN         jnardino                 NaN   \n",
       "4                        NaN         jnardino                 NaN   \n",
       "...                      ...              ...                 ...   \n",
       "14635                    NaN  KristenReenders                 NaN   \n",
       "14636                    NaN         itsropes                 NaN   \n",
       "14637                    NaN         sanyabun                 NaN   \n",
       "14638                    NaN       SraJackson                 NaN   \n",
       "14639                    NaN        daviddtwu                 NaN   \n",
       "\n",
       "       retweet_count                                               text  \\\n",
       "0                  0                @VirginAmerica What @dhepburn said.   \n",
       "1                  0  @VirginAmerica plus you've added commercials t...   \n",
       "2                  0  @VirginAmerica I didn't today... Must mean I n...   \n",
       "3                  0  @VirginAmerica it's really aggressive to blast...   \n",
       "4                  0  @VirginAmerica and it's a really big bad thing...   \n",
       "...              ...                                                ...   \n",
       "14635              0  @AmericanAir thank you we got on a different f...   \n",
       "14636              0  @AmericanAir leaving over 20 minutes Late Flig...   \n",
       "14637              0  @AmericanAir Please bring American Airlines to...   \n",
       "14638              0  @AmericanAir you have my money, you change my ...   \n",
       "14639              0  @AmericanAir we have 8 ppl so we need 2 know h...   \n",
       "\n",
       "      tweet_coord              tweet_created tweet_location  \\\n",
       "0             NaN  2015-02-24 11:35:52 -0800            NaN   \n",
       "1             NaN  2015-02-24 11:15:59 -0800            NaN   \n",
       "2             NaN  2015-02-24 11:15:48 -0800      Lets Play   \n",
       "3             NaN  2015-02-24 11:15:36 -0800            NaN   \n",
       "4             NaN  2015-02-24 11:14:45 -0800            NaN   \n",
       "...           ...                        ...            ...   \n",
       "14635         NaN  2015-02-22 12:01:01 -0800            NaN   \n",
       "14636         NaN  2015-02-22 11:59:46 -0800          Texas   \n",
       "14637         NaN  2015-02-22 11:59:15 -0800  Nigeria,lagos   \n",
       "14638         NaN  2015-02-22 11:59:02 -0800     New Jersey   \n",
       "14639         NaN  2015-02-22 11:58:51 -0800     dallas, TX   \n",
       "\n",
       "                    user_timezone  \n",
       "0      Eastern Time (US & Canada)  \n",
       "1      Pacific Time (US & Canada)  \n",
       "2      Central Time (US & Canada)  \n",
       "3      Pacific Time (US & Canada)  \n",
       "4      Pacific Time (US & Canada)  \n",
       "...                           ...  \n",
       "14635                         NaN  \n",
       "14636                         NaN  \n",
       "14637                         NaN  \n",
       "14638  Eastern Time (US & Canada)  \n",
       "14639                         NaN  \n",
       "\n",
       "[14640 rows x 15 columns]"
      ]
     },
     "execution_count": 107,
     "metadata": {},
     "output_type": "execute_result"
    }
   ],
   "source": [
    "df_tweets=pd.read_csv(\"Tweets.csv\")\n",
    "df_tweets"
   ]
  },
  {
   "cell_type": "markdown",
   "metadata": {},
   "source": [
    "Informations sur notre ensemble de données"
   ]
  },
  {
   "cell_type": "code",
   "execution_count": 108,
   "metadata": {},
   "outputs": [
    {
     "name": "stdout",
     "output_type": "stream",
     "text": [
      "<class 'pandas.core.frame.DataFrame'>\n",
      "RangeIndex: 14640 entries, 0 to 14639\n",
      "Data columns (total 15 columns):\n",
      " #   Column                        Non-Null Count  Dtype  \n",
      "---  ------                        --------------  -----  \n",
      " 0   tweet_id                      14640 non-null  int64  \n",
      " 1   airline_sentiment             14640 non-null  object \n",
      " 2   airline_sentiment_confidence  14640 non-null  float64\n",
      " 3   negativereason                9178 non-null   object \n",
      " 4   negativereason_confidence     10522 non-null  float64\n",
      " 5   airline                       14640 non-null  object \n",
      " 6   airline_sentiment_gold        40 non-null     object \n",
      " 7   name                          14640 non-null  object \n",
      " 8   negativereason_gold           32 non-null     object \n",
      " 9   retweet_count                 14640 non-null  int64  \n",
      " 10  text                          14640 non-null  object \n",
      " 11  tweet_coord                   1019 non-null   object \n",
      " 12  tweet_created                 14640 non-null  object \n",
      " 13  tweet_location                9907 non-null   object \n",
      " 14  user_timezone                 9820 non-null   object \n",
      "dtypes: float64(2), int64(2), object(11)\n",
      "memory usage: 1.7+ MB\n"
     ]
    }
   ],
   "source": [
    "df_tweets.info()"
   ]
  },
  {
   "cell_type": "markdown",
   "metadata": {},
   "source": [
    "Statistique descriptives des variables quantitatives"
   ]
  },
  {
   "cell_type": "code",
   "execution_count": 109,
   "metadata": {},
   "outputs": [
    {
     "data": {
      "text/html": [
       "<div>\n",
       "<style scoped>\n",
       "    .dataframe tbody tr th:only-of-type {\n",
       "        vertical-align: middle;\n",
       "    }\n",
       "\n",
       "    .dataframe tbody tr th {\n",
       "        vertical-align: top;\n",
       "    }\n",
       "\n",
       "    .dataframe thead th {\n",
       "        text-align: right;\n",
       "    }\n",
       "</style>\n",
       "<table border=\"1\" class=\"dataframe\">\n",
       "  <thead>\n",
       "    <tr style=\"text-align: right;\">\n",
       "      <th></th>\n",
       "      <th>tweet_id</th>\n",
       "      <th>airline_sentiment_confidence</th>\n",
       "      <th>negativereason_confidence</th>\n",
       "      <th>retweet_count</th>\n",
       "    </tr>\n",
       "  </thead>\n",
       "  <tbody>\n",
       "    <tr>\n",
       "      <th>count</th>\n",
       "      <td>1.464000e+04</td>\n",
       "      <td>14640.000000</td>\n",
       "      <td>10522.000000</td>\n",
       "      <td>14640.000000</td>\n",
       "    </tr>\n",
       "    <tr>\n",
       "      <th>mean</th>\n",
       "      <td>5.692184e+17</td>\n",
       "      <td>0.900169</td>\n",
       "      <td>0.638298</td>\n",
       "      <td>0.082650</td>\n",
       "    </tr>\n",
       "    <tr>\n",
       "      <th>std</th>\n",
       "      <td>7.791112e+14</td>\n",
       "      <td>0.162830</td>\n",
       "      <td>0.330440</td>\n",
       "      <td>0.745778</td>\n",
       "    </tr>\n",
       "    <tr>\n",
       "      <th>min</th>\n",
       "      <td>5.675883e+17</td>\n",
       "      <td>0.335000</td>\n",
       "      <td>0.000000</td>\n",
       "      <td>0.000000</td>\n",
       "    </tr>\n",
       "    <tr>\n",
       "      <th>25%</th>\n",
       "      <td>5.685592e+17</td>\n",
       "      <td>0.692300</td>\n",
       "      <td>0.360600</td>\n",
       "      <td>0.000000</td>\n",
       "    </tr>\n",
       "    <tr>\n",
       "      <th>50%</th>\n",
       "      <td>5.694779e+17</td>\n",
       "      <td>1.000000</td>\n",
       "      <td>0.670600</td>\n",
       "      <td>0.000000</td>\n",
       "    </tr>\n",
       "    <tr>\n",
       "      <th>75%</th>\n",
       "      <td>5.698905e+17</td>\n",
       "      <td>1.000000</td>\n",
       "      <td>1.000000</td>\n",
       "      <td>0.000000</td>\n",
       "    </tr>\n",
       "    <tr>\n",
       "      <th>max</th>\n",
       "      <td>5.703106e+17</td>\n",
       "      <td>1.000000</td>\n",
       "      <td>1.000000</td>\n",
       "      <td>44.000000</td>\n",
       "    </tr>\n",
       "  </tbody>\n",
       "</table>\n",
       "</div>"
      ],
      "text/plain": [
       "           tweet_id  airline_sentiment_confidence  negativereason_confidence  \\\n",
       "count  1.464000e+04                  14640.000000               10522.000000   \n",
       "mean   5.692184e+17                      0.900169                   0.638298   \n",
       "std    7.791112e+14                      0.162830                   0.330440   \n",
       "min    5.675883e+17                      0.335000                   0.000000   \n",
       "25%    5.685592e+17                      0.692300                   0.360600   \n",
       "50%    5.694779e+17                      1.000000                   0.670600   \n",
       "75%    5.698905e+17                      1.000000                   1.000000   \n",
       "max    5.703106e+17                      1.000000                   1.000000   \n",
       "\n",
       "       retweet_count  \n",
       "count   14640.000000  \n",
       "mean        0.082650  \n",
       "std         0.745778  \n",
       "min         0.000000  \n",
       "25%         0.000000  \n",
       "50%         0.000000  \n",
       "75%         0.000000  \n",
       "max        44.000000  "
      ]
     },
     "execution_count": 109,
     "metadata": {},
     "output_type": "execute_result"
    }
   ],
   "source": [
    "df_tweets.describe()"
   ]
  },
  {
   "cell_type": "markdown",
   "metadata": {},
   "source": [
    "Création d'un diagramme circulaire pour la visualisationde la  proportion d'avis positifs, négatifs et neutre de l'ensemble des compagnies aériennes"
   ]
  },
  {
   "cell_type": "code",
   "execution_count": 111,
   "metadata": {},
   "outputs": [
    {
     "data": {
      "image/png": "[encoded data removed]",
      "text/plain": [
       "<Figure size 640x480 with 1 Axes>"
      ]
     },
     "metadata": {},
     "output_type": "display_data"
    }
   ],
   "source": [
    "sentiment2 = ['airline_sentiment']\n",
    "for i in sentiment2:\n",
    "    df_tweets[i].value_counts().plot.pie(autopct = '%1.1f%%')\n",
    "    plt.title(f\"Diagramme Circulaire de la proportion d'avis positifs, négatifs et neutre de l'ensemble des compagnies aériennes {i}\")\n",
    "    plt.ylabel('')\n",
    "    plt.show()"
   ]
  },
  {
   "cell_type": "markdown",
   "metadata": {},
   "source": [
    "#### Interprétation: Globalement il y a une grande quantité d'avis négatifs (62.7%) comparé à la proportion d'avis neutre (21.2%) et d'avis positifs (16.1%). Les voyageurs ne sont donc généralement pas satisfait des services offerts par les compagnies aériennes"
   ]
  },
  {
   "cell_type": "markdown",
   "metadata": {},
   "source": [
    "Pourcentage des avis par compagnies et par sentiments"
   ]
  },
  {
   "cell_type": "code",
   "execution_count": 113,
   "metadata": {},
   "outputs": [
    {
     "data": {
      "text/html": [
       "<div>\n",
       "<style scoped>\n",
       "    .dataframe tbody tr th:only-of-type {\n",
       "        vertical-align: middle;\n",
       "    }\n",
       "\n",
       "    .dataframe tbody tr th {\n",
       "        vertical-align: top;\n",
       "    }\n",
       "\n",
       "    .dataframe thead th {\n",
       "        text-align: right;\n",
       "    }\n",
       "</style>\n",
       "<table border=\"1\" class=\"dataframe\">\n",
       "  <thead>\n",
       "    <tr style=\"text-align: right;\">\n",
       "      <th>airline_sentiment</th>\n",
       "      <th>negative</th>\n",
       "      <th>neutral</th>\n",
       "      <th>positive</th>\n",
       "    </tr>\n",
       "    <tr>\n",
       "      <th>airline</th>\n",
       "      <th></th>\n",
       "      <th></th>\n",
       "      <th></th>\n",
       "    </tr>\n",
       "  </thead>\n",
       "  <tbody>\n",
       "    <tr>\n",
       "      <th>American</th>\n",
       "      <td>71.040232</td>\n",
       "      <td>16.781443</td>\n",
       "      <td>12.178325</td>\n",
       "    </tr>\n",
       "    <tr>\n",
       "      <th>Delta</th>\n",
       "      <td>42.979298</td>\n",
       "      <td>32.538254</td>\n",
       "      <td>24.482448</td>\n",
       "    </tr>\n",
       "    <tr>\n",
       "      <th>Southwest</th>\n",
       "      <td>49.008264</td>\n",
       "      <td>27.438017</td>\n",
       "      <td>23.553719</td>\n",
       "    </tr>\n",
       "    <tr>\n",
       "      <th>US Airways</th>\n",
       "      <td>77.686234</td>\n",
       "      <td>13.079300</td>\n",
       "      <td>9.234466</td>\n",
       "    </tr>\n",
       "    <tr>\n",
       "      <th>United</th>\n",
       "      <td>68.890633</td>\n",
       "      <td>18.236525</td>\n",
       "      <td>12.872841</td>\n",
       "    </tr>\n",
       "    <tr>\n",
       "      <th>Virgin America</th>\n",
       "      <td>35.912698</td>\n",
       "      <td>33.928571</td>\n",
       "      <td>30.158730</td>\n",
       "    </tr>\n",
       "  </tbody>\n",
       "</table>\n",
       "</div>"
      ],
      "text/plain": [
       "airline_sentiment   negative    neutral   positive\n",
       "airline                                           \n",
       "American           71.040232  16.781443  12.178325\n",
       "Delta              42.979298  32.538254  24.482448\n",
       "Southwest          49.008264  27.438017  23.553719\n",
       "US Airways         77.686234  13.079300   9.234466\n",
       "United             68.890633  18.236525  12.872841\n",
       "Virgin America     35.912698  33.928571  30.158730"
      ]
     },
     "execution_count": 113,
     "metadata": {},
     "output_type": "execute_result"
    }
   ],
   "source": [
    "pourcentages_compagnies = df_tweets.groupby('airline')['airline_sentiment'].value_counts(normalize=True).unstack() * 100\n",
    "pourcentages_compagnies"
   ]
  },
  {
   "cell_type": "markdown",
   "metadata": {},
   "source": [
    "Vérifions si la colonne de la variable cible \"airline_sentiment\" et la colonne des tweets \"text\" présentent des valeurs manquantes"
   ]
  },
  {
   "cell_type": "code",
   "execution_count": 114,
   "metadata": {},
   "outputs": [
    {
     "name": "stdout",
     "output_type": "stream",
     "text": [
      "tweet_id                            0\n",
      "airline_sentiment                   0\n",
      "airline_sentiment_confidence        0\n",
      "negativereason                   5462\n",
      "negativereason_confidence        4118\n",
      "airline                             0\n",
      "airline_sentiment_gold          14600\n",
      "name                                0\n",
      "negativereason_gold             14608\n",
      "retweet_count                       0\n",
      "text                                0\n",
      "tweet_coord                     13621\n",
      "tweet_created                       0\n",
      "tweet_location                   4733\n",
      "user_timezone                    4820\n",
      "dtype: int64\n"
     ]
    }
   ],
   "source": [
    "print(df_tweets.isnull().sum()) "
   ]
  },
  {
   "cell_type": "markdown",
   "metadata": {},
   "source": [
    "Etant donné que les colonnes des variables à utiliser pour la création de notre modèle ne contiennent pas de valeurs manquantes nous allons garder uniquement les colonnes à utiliser"
   ]
  },
  {
   "cell_type": "code",
   "execution_count": 115,
   "metadata": {},
   "outputs": [
    {
     "data": {
      "text/html": [
       "<div>\n",
       "<style scoped>\n",
       "    .dataframe tbody tr th:only-of-type {\n",
       "        vertical-align: middle;\n",
       "    }\n",
       "\n",
       "    .dataframe tbody tr th {\n",
       "        vertical-align: top;\n",
       "    }\n",
       "\n",
       "    .dataframe thead th {\n",
       "        text-align: right;\n",
       "    }\n",
       "</style>\n",
       "<table border=\"1\" class=\"dataframe\">\n",
       "  <thead>\n",
       "    <tr style=\"text-align: right;\">\n",
       "      <th></th>\n",
       "      <th>text</th>\n",
       "      <th>airline_sentiment</th>\n",
       "    </tr>\n",
       "  </thead>\n",
       "  <tbody>\n",
       "    <tr>\n",
       "      <th>0</th>\n",
       "      <td>@VirginAmerica What @dhepburn said.</td>\n",
       "      <td>neutral</td>\n",
       "    </tr>\n",
       "    <tr>\n",
       "      <th>1</th>\n",
       "      <td>@VirginAmerica plus you've added commercials t...</td>\n",
       "      <td>positive</td>\n",
       "    </tr>\n",
       "    <tr>\n",
       "      <th>2</th>\n",
       "      <td>@VirginAmerica I didn't today... Must mean I n...</td>\n",
       "      <td>neutral</td>\n",
       "    </tr>\n",
       "    <tr>\n",
       "      <th>3</th>\n",
       "      <td>@VirginAmerica it's really aggressive to blast...</td>\n",
       "      <td>negative</td>\n",
       "    </tr>\n",
       "    <tr>\n",
       "      <th>4</th>\n",
       "      <td>@VirginAmerica and it's a really big bad thing...</td>\n",
       "      <td>negative</td>\n",
       "    </tr>\n",
       "    <tr>\n",
       "      <th>...</th>\n",
       "      <td>...</td>\n",
       "      <td>...</td>\n",
       "    </tr>\n",
       "    <tr>\n",
       "      <th>14635</th>\n",
       "      <td>@AmericanAir thank you we got on a different f...</td>\n",
       "      <td>positive</td>\n",
       "    </tr>\n",
       "    <tr>\n",
       "      <th>14636</th>\n",
       "      <td>@AmericanAir leaving over 20 minutes Late Flig...</td>\n",
       "      <td>negative</td>\n",
       "    </tr>\n",
       "    <tr>\n",
       "      <th>14637</th>\n",
       "      <td>@AmericanAir Please bring American Airlines to...</td>\n",
       "      <td>neutral</td>\n",
       "    </tr>\n",
       "    <tr>\n",
       "      <th>14638</th>\n",
       "      <td>@AmericanAir you have my money, you change my ...</td>\n",
       "      <td>negative</td>\n",
       "    </tr>\n",
       "    <tr>\n",
       "      <th>14639</th>\n",
       "      <td>@AmericanAir we have 8 ppl so we need 2 know h...</td>\n",
       "      <td>neutral</td>\n",
       "    </tr>\n",
       "  </tbody>\n",
       "</table>\n",
       "<p>14640 rows × 2 columns</p>\n",
       "</div>"
      ],
      "text/plain": [
       "                                                    text airline_sentiment\n",
       "0                    @VirginAmerica What @dhepburn said.           neutral\n",
       "1      @VirginAmerica plus you've added commercials t...          positive\n",
       "2      @VirginAmerica I didn't today... Must mean I n...           neutral\n",
       "3      @VirginAmerica it's really aggressive to blast...          negative\n",
       "4      @VirginAmerica and it's a really big bad thing...          negative\n",
       "...                                                  ...               ...\n",
       "14635  @AmericanAir thank you we got on a different f...          positive\n",
       "14636  @AmericanAir leaving over 20 minutes Late Flig...          negative\n",
       "14637  @AmericanAir Please bring American Airlines to...           neutral\n",
       "14638  @AmericanAir you have my money, you change my ...          negative\n",
       "14639  @AmericanAir we have 8 ppl so we need 2 know h...           neutral\n",
       "\n",
       "[14640 rows x 2 columns]"
      ]
     },
     "execution_count": 115,
     "metadata": {},
     "output_type": "execute_result"
    }
   ],
   "source": [
    "df_tweets2 = df_tweets[['text', 'airline_sentiment']].dropna()\n",
    "df_tweets2"
   ]
  },
  {
   "cell_type": "markdown",
   "metadata": {},
   "source": [
    "Nous allons maintenant Convertir les avis en variables quantitatives: 0 pour les \n",
    "tweets négatifs, 1 pour les tweets neutres et 2 pour les tweets positifs"
   ]
  },
  {
   "cell_type": "code",
   "execution_count": 116,
   "metadata": {},
   "outputs": [
    {
     "data": {
      "text/html": [
       "<div>\n",
       "<style scoped>\n",
       "    .dataframe tbody tr th:only-of-type {\n",
       "        vertical-align: middle;\n",
       "    }\n",
       "\n",
       "    .dataframe tbody tr th {\n",
       "        vertical-align: top;\n",
       "    }\n",
       "\n",
       "    .dataframe thead th {\n",
       "        text-align: right;\n",
       "    }\n",
       "</style>\n",
       "<table border=\"1\" class=\"dataframe\">\n",
       "  <thead>\n",
       "    <tr style=\"text-align: right;\">\n",
       "      <th></th>\n",
       "      <th>text</th>\n",
       "      <th>airline_sentiment</th>\n",
       "    </tr>\n",
       "  </thead>\n",
       "  <tbody>\n",
       "    <tr>\n",
       "      <th>0</th>\n",
       "      <td>@VirginAmerica What @dhepburn said.</td>\n",
       "      <td>1</td>\n",
       "    </tr>\n",
       "    <tr>\n",
       "      <th>1</th>\n",
       "      <td>@VirginAmerica plus you've added commercials t...</td>\n",
       "      <td>2</td>\n",
       "    </tr>\n",
       "    <tr>\n",
       "      <th>2</th>\n",
       "      <td>@VirginAmerica I didn't today... Must mean I n...</td>\n",
       "      <td>1</td>\n",
       "    </tr>\n",
       "    <tr>\n",
       "      <th>3</th>\n",
       "      <td>@VirginAmerica it's really aggressive to blast...</td>\n",
       "      <td>0</td>\n",
       "    </tr>\n",
       "    <tr>\n",
       "      <th>4</th>\n",
       "      <td>@VirginAmerica and it's a really big bad thing...</td>\n",
       "      <td>0</td>\n",
       "    </tr>\n",
       "    <tr>\n",
       "      <th>...</th>\n",
       "      <td>...</td>\n",
       "      <td>...</td>\n",
       "    </tr>\n",
       "    <tr>\n",
       "      <th>14635</th>\n",
       "      <td>@AmericanAir thank you we got on a different f...</td>\n",
       "      <td>2</td>\n",
       "    </tr>\n",
       "    <tr>\n",
       "      <th>14636</th>\n",
       "      <td>@AmericanAir leaving over 20 minutes Late Flig...</td>\n",
       "      <td>0</td>\n",
       "    </tr>\n",
       "    <tr>\n",
       "      <th>14637</th>\n",
       "      <td>@AmericanAir Please bring American Airlines to...</td>\n",
       "      <td>1</td>\n",
       "    </tr>\n",
       "    <tr>\n",
       "      <th>14638</th>\n",
       "      <td>@AmericanAir you have my money, you change my ...</td>\n",
       "      <td>0</td>\n",
       "    </tr>\n",
       "    <tr>\n",
       "      <th>14639</th>\n",
       "      <td>@AmericanAir we have 8 ppl so we need 2 know h...</td>\n",
       "      <td>1</td>\n",
       "    </tr>\n",
       "  </tbody>\n",
       "</table>\n",
       "<p>14640 rows × 2 columns</p>\n",
       "</div>"
      ],
      "text/plain": [
       "                                                    text  airline_sentiment\n",
       "0                    @VirginAmerica What @dhepburn said.                  1\n",
       "1      @VirginAmerica plus you've added commercials t...                  2\n",
       "2      @VirginAmerica I didn't today... Must mean I n...                  1\n",
       "3      @VirginAmerica it's really aggressive to blast...                  0\n",
       "4      @VirginAmerica and it's a really big bad thing...                  0\n",
       "...                                                  ...                ...\n",
       "14635  @AmericanAir thank you we got on a different f...                  2\n",
       "14636  @AmericanAir leaving over 20 minutes Late Flig...                  0\n",
       "14637  @AmericanAir Please bring American Airlines to...                  1\n",
       "14638  @AmericanAir you have my money, you change my ...                  0\n",
       "14639  @AmericanAir we have 8 ppl so we need 2 know h...                  1\n",
       "\n",
       "[14640 rows x 2 columns]"
      ]
     },
     "execution_count": 116,
     "metadata": {},
     "output_type": "execute_result"
    }
   ],
   "source": [
    "sentiment_remplace={\"negative\":0, \"neutral\":1, \"positive\":2}\n",
    "df_tweets2[\"airline_sentiment\"]=df_tweets2[\"airline_sentiment\"].map(sentiment_remplace)\n",
    "df_tweets2"
   ]
  },
  {
   "cell_type": "markdown",
   "metadata": {},
   "source": [
    "## 1-) Construisons et ajustons un modèle de régression logistique en utilisant les arguments définis X et y"
   ]
  },
  {
   "cell_type": "code",
   "execution_count": 118,
   "metadata": {},
   "outputs": [],
   "source": [
    "from sklearn.model_selection import train_test_split\n",
    "from sklearn.feature_extraction.text import TfidfVectorizer\n",
    "from sklearn.linear_model import LogisticRegression\n",
    "from sklearn.metrics import accuracy_score"
   ]
  },
  {
   "cell_type": "markdown",
   "metadata": {},
   "source": [
    "Séparons le dataframe en données d'entraînement et de test"
   ]
  },
  {
   "cell_type": "code",
   "execution_count": 120,
   "metadata": {},
   "outputs": [],
   "source": [
    "X_train, X_test, y_train, y_test = train_test_split(df_tweets2['text'], df_tweets2['airline_sentiment'], test_size=0.2, random_state=42)"
   ]
  },
  {
   "cell_type": "markdown",
   "metadata": {},
   "source": [
    "Vectorisation des tweets avec TF-IDF"
   ]
  },
  {
   "cell_type": "code",
   "execution_count": 121,
   "metadata": {},
   "outputs": [],
   "source": [
    "vectoriseur2 = TfidfVectorizer(stop_words='english', max_features=5000)\n",
    "X_train_tfidf = vectoriseur2.fit_transform(X_train)\n",
    "X_test_tfidf = vectoriseur2.transform(X_test)"
   ]
  },
  {
   "cell_type": "code",
   "execution_count": 122,
   "metadata": {},
   "outputs": [],
   "source": [
    "model = LogisticRegression(multi_class='multinomial', solver='lbfgs', max_iter=1000)"
   ]
  },
  {
   "cell_type": "markdown",
   "metadata": {},
   "source": [
    "Entraînement du modèle de régression logistique"
   ]
  },
  {
   "cell_type": "code",
   "execution_count": 123,
   "metadata": {},
   "outputs": [
    {
     "data": {
      "text/html": [
       "<style>#sk-container-id-1 {color: black;}#sk-container-id-1 pre{padding: 0;}#sk-container-id-1 div.sk-toggleable {background-color: white;}#sk-container-id-1 label.sk-toggleable__label {cursor: pointer;display: block;width: 100%;margin-bottom: 0;padding: 0.3em;box-sizing: border-box;text-align: center;}#sk-container-id-1 label.sk-toggleable__label-arrow:before {content: \"▸\";float: left;margin-right: 0.25em;color: #696969;}#sk-container-id-1 label.sk-toggleable__label-arrow:hover:before {color: black;}#sk-container-id-1 div.sk-estimator:hover label.sk-toggleable__label-arrow:before {color: black;}#sk-container-id-1 div.sk-toggleable__content {max-height: 0;max-width: 0;overflow: hidden;text-align: left;background-color: #f0f8ff;}#sk-container-id-1 div.sk-toggleable__content pre {margin: 0.2em;color: black;border-radius: 0.25em;background-color: #f0f8ff;}#sk-container-id-1 input.sk-toggleable__control:checked~div.sk-toggleable__content {max-height: 200px;max-width: 100%;overflow: auto;}#sk-container-id-1 input.sk-toggleable__control:checked~label.sk-toggleable__label-arrow:before {content: \"▾\";}#sk-container-id-1 div.sk-estimator input.sk-toggleable__control:checked~label.sk-toggleable__label {background-color: #d4ebff;}#sk-container-id-1 div.sk-label input.sk-toggleable__control:checked~label.sk-toggleable__label {background-color: #d4ebff;}#sk-container-id-1 input.sk-hidden--visually {border: 0;clip: rect(1px 1px 1px 1px);clip: rect(1px, 1px, 1px, 1px);height: 1px;margin: -1px;overflow: hidden;padding: 0;position: absolute;width: 1px;}#sk-container-id-1 div.sk-estimator {font-family: monospace;background-color: #f0f8ff;border: 1px dotted black;border-radius: 0.25em;box-sizing: border-box;margin-bottom: 0.5em;}#sk-container-id-1 div.sk-estimator:hover {background-color: #d4ebff;}#sk-container-id-1 div.sk-parallel-item::after {content: \"\";width: 100%;border-bottom: 1px solid gray;flex-grow: 1;}#sk-container-id-1 div.sk-label:hover label.sk-toggleable__label {background-color: #d4ebff;}#sk-container-id-1 div.sk-serial::before {content: \"\";position: absolute;border-left: 1px solid gray;box-sizing: border-box;top: 0;bottom: 0;left: 50%;z-index: 0;}#sk-container-id-1 div.sk-serial {display: flex;flex-direction: column;align-items: center;background-color: white;padding-right: 0.2em;padding-left: 0.2em;position: relative;}#sk-container-id-1 div.sk-item {position: relative;z-index: 1;}#sk-container-id-1 div.sk-parallel {display: flex;align-items: stretch;justify-content: center;background-color: white;position: relative;}#sk-container-id-1 div.sk-item::before, #sk-container-id-1 div.sk-parallel-item::before {content: \"\";position: absolute;border-left: 1px solid gray;box-sizing: border-box;top: 0;bottom: 0;left: 50%;z-index: -1;}#sk-container-id-1 div.sk-parallel-item {display: flex;flex-direction: column;z-index: 1;position: relative;background-color: white;}#sk-container-id-1 div.sk-parallel-item:first-child::after {align-self: flex-end;width: 50%;}#sk-container-id-1 div.sk-parallel-item:last-child::after {align-self: flex-start;width: 50%;}#sk-container-id-1 div.sk-parallel-item:only-child::after {width: 0;}#sk-container-id-1 div.sk-dashed-wrapped {border: 1px dashed gray;margin: 0 0.4em 0.5em 0.4em;box-sizing: border-box;padding-bottom: 0.4em;background-color: white;}#sk-container-id-1 div.sk-label label {font-family: monospace;font-weight: bold;display: inline-block;line-height: 1.2em;}#sk-container-id-1 div.sk-label-container {text-align: center;}#sk-container-id-1 div.sk-container {/* jupyter's `normalize.less` sets `[hidden] { display: none; }` but bootstrap.min.css set `[hidden] { display: none !important; }` so we also need the `!important` here to be able to override the default hidden behavior on the sphinx rendered scikit-learn.org. See: https://github.com/scikit-learn/scikit-learn/issues/21755 */display: inline-block !important;position: relative;}#sk-container-id-1 div.sk-text-repr-fallback {display: none;}</style><div id=\"sk-container-id-1\" class=\"sk-top-container\"><div class=\"sk-text-repr-fallback\"><pre>LogisticRegression(max_iter=1000, multi_class=&#x27;multinomial&#x27;)</pre><b>In a Jupyter environment, please rerun this cell to show the HTML representation or trust the notebook. <br />On GitHub, the HTML representation is unable to render, please try loading this page with nbviewer.org.</b></div><div class=\"sk-container\" hidden><div class=\"sk-item\"><div class=\"sk-estimator sk-toggleable\"><input class=\"sk-toggleable__control sk-hidden--visually\" id=\"sk-estimator-id-1\" type=\"checkbox\" checked><label for=\"sk-estimator-id-1\" class=\"sk-toggleable__label sk-toggleable__label-arrow\">LogisticRegression</label><div class=\"sk-toggleable__content\"><pre>LogisticRegression(max_iter=1000, multi_class=&#x27;multinomial&#x27;)</pre></div></div></div></div></div>"
      ],
      "text/plain": [
       "LogisticRegression(max_iter=1000, multi_class='multinomial')"
      ]
     },
     "execution_count": 123,
     "metadata": {},
     "output_type": "execute_result"
    }
   ],
   "source": [
    "model.fit(X_train_tfidf, y_train)"
   ]
  },
  {
   "cell_type": "markdown",
   "metadata": {},
   "source": [
    "## 2-) Prédiction des étiquettes."
   ]
  },
  {
   "cell_type": "code",
   "execution_count": 124,
   "metadata": {},
   "outputs": [],
   "source": [
    "y_pred = model.predict(X_test_tfidf)"
   ]
  },
  {
   "cell_type": "markdown",
   "metadata": {},
   "source": [
    "## 3-) Calcul de la précision du modèle de régression logistique"
   ]
  },
  {
   "cell_type": "code",
   "execution_count": 126,
   "metadata": {},
   "outputs": [
    {
     "name": "stdout",
     "output_type": "stream",
     "text": [
      "Le score de prédiction du modèle est: 0.7954234972677595\n"
     ]
    }
   ],
   "source": [
    "accuracy = accuracy_score(y_test, y_pred)\n",
    "print(f\"Le score de prédiction du modèle est: {accuracy}\")"
   ]
  },
  {
   "cell_type": "markdown",
   "metadata": {},
   "source": [
    "## 4-) Calcul du score de précision en utilisant les étiquettes prédites et vraies."
   ]
  },
  {
   "cell_type": "markdown",
   "metadata": {},
   "source": [
    "Création d'un DataFrame avec les exemples, les vraies valeurs et les prédictions"
   ]
  },
  {
   "cell_type": "code",
   "execution_count": 127,
   "metadata": {},
   "outputs": [
    {
     "data": {
      "text/html": [
       "<div>\n",
       "<style scoped>\n",
       "    .dataframe tbody tr th:only-of-type {\n",
       "        vertical-align: middle;\n",
       "    }\n",
       "\n",
       "    .dataframe tbody tr th {\n",
       "        vertical-align: top;\n",
       "    }\n",
       "\n",
       "    .dataframe thead th {\n",
       "        text-align: right;\n",
       "    }\n",
       "</style>\n",
       "<table border=\"1\" class=\"dataframe\">\n",
       "  <thead>\n",
       "    <tr style=\"text-align: right;\">\n",
       "      <th></th>\n",
       "      <th>Texte</th>\n",
       "      <th>Vraies valeurs</th>\n",
       "      <th>Prédictions</th>\n",
       "    </tr>\n",
       "  </thead>\n",
       "  <tbody>\n",
       "    <tr>\n",
       "      <th>4794</th>\n",
       "      <td>@SouthwestAir you're my early frontrunner for ...</td>\n",
       "      <td>2</td>\n",
       "      <td>2</td>\n",
       "    </tr>\n",
       "    <tr>\n",
       "      <th>10480</th>\n",
       "      <td>@USAirways how is it that my flt to EWR was Ca...</td>\n",
       "      <td>0</td>\n",
       "      <td>0</td>\n",
       "    </tr>\n",
       "    <tr>\n",
       "      <th>8067</th>\n",
       "      <td>@JetBlue what is going on with your BDL to DCA...</td>\n",
       "      <td>0</td>\n",
       "      <td>0</td>\n",
       "    </tr>\n",
       "    <tr>\n",
       "      <th>8880</th>\n",
       "      <td>@JetBlue do they have to depart from Washingto...</td>\n",
       "      <td>1</td>\n",
       "      <td>1</td>\n",
       "    </tr>\n",
       "    <tr>\n",
       "      <th>8292</th>\n",
       "      <td>@JetBlue I can probably find some of them. Are...</td>\n",
       "      <td>0</td>\n",
       "      <td>1</td>\n",
       "    </tr>\n",
       "    <tr>\n",
       "      <th>927</th>\n",
       "      <td>@united still waiting to hear back. My wallet ...</td>\n",
       "      <td>0</td>\n",
       "      <td>0</td>\n",
       "    </tr>\n",
       "    <tr>\n",
       "      <th>3165</th>\n",
       "      <td>@united Yes my flight was rebooked. I'm just l...</td>\n",
       "      <td>0</td>\n",
       "      <td>0</td>\n",
       "    </tr>\n",
       "    <tr>\n",
       "      <th>7894</th>\n",
       "      <td>@JetBlue Thank you ! What about Paris ? Could ...</td>\n",
       "      <td>1</td>\n",
       "      <td>1</td>\n",
       "    </tr>\n",
       "    <tr>\n",
       "      <th>2818</th>\n",
       "      <td>@united not 100% sure, however my ticket inclu...</td>\n",
       "      <td>0</td>\n",
       "      <td>0</td>\n",
       "    </tr>\n",
       "    <tr>\n",
       "      <th>9145</th>\n",
       "      <td>@usairways great crew for flight 504 PHX to YV...</td>\n",
       "      <td>2</td>\n",
       "      <td>2</td>\n",
       "    </tr>\n",
       "  </tbody>\n",
       "</table>\n",
       "</div>"
      ],
      "text/plain": [
       "                                                   Texte  Vraies valeurs  \\\n",
       "4794   @SouthwestAir you're my early frontrunner for ...               2   \n",
       "10480  @USAirways how is it that my flt to EWR was Ca...               0   \n",
       "8067   @JetBlue what is going on with your BDL to DCA...               0   \n",
       "8880   @JetBlue do they have to depart from Washingto...               1   \n",
       "8292   @JetBlue I can probably find some of them. Are...               0   \n",
       "927    @united still waiting to hear back. My wallet ...               0   \n",
       "3165   @united Yes my flight was rebooked. I'm just l...               0   \n",
       "7894   @JetBlue Thank you ! What about Paris ? Could ...               1   \n",
       "2818   @united not 100% sure, however my ticket inclu...               0   \n",
       "9145   @usairways great crew for flight 504 PHX to YV...               2   \n",
       "\n",
       "       Prédictions  \n",
       "4794             2  \n",
       "10480            0  \n",
       "8067             0  \n",
       "8880             1  \n",
       "8292             1  \n",
       "927              0  \n",
       "3165             0  \n",
       "7894             1  \n",
       "2818             0  \n",
       "9145             2  "
      ]
     },
     "execution_count": 127,
     "metadata": {},
     "output_type": "execute_result"
    }
   ],
   "source": [
    "resultats = pd.DataFrame({'Texte': X_test[:10], 'Vraies valeurs': y_test[:10], 'Prédictions': y_pred[:10]})\n",
    "resultats"
   ]
  },
  {
   "cell_type": "markdown",
   "metadata": {},
   "source": [
    "Testons le modèle sur des avis"
   ]
  },
  {
   "cell_type": "code",
   "execution_count": 134,
   "metadata": {},
   "outputs": [
    {
     "name": "stdout",
     "output_type": "stream",
     "text": [
      "Phrase: 'I absolutely loved the new movie; it was amazing!'\n",
      "Sentiment Prédit: Positive\n",
      "\n",
      "Phrase: 'I really hated the food, it was awful.'\n",
      "Sentiment Prédit: Negative\n",
      "\n",
      "Phrase: 'The weather today is just okay, nothing special.'\n",
      "Sentiment Prédit: Negative\n",
      "\n"
     ]
    }
   ],
   "source": [
    "# Exemple de texte pour le test\n",
    "test_phrase = [\n",
    "    \"I absolutely loved the new movie; it was amazing!\",  # Phrase positive\n",
    "    \"I really hated the food, it was awful.\",           # Phrase négative\n",
    "    \"The weather today is just okay, nothing special.\"  # Phrase neutre\n",
    "]\n",
    "# Affichage des résultats\n",
    "for i, phrase in enumerate(test_phrase):\n",
    "    sentiment10 = 'Negative' if y_pred[i] == 0 else 'Neutral' if y_pred[i] == 1 else 'Positive' \n",
    "    print(f\"Phrase: '{phrase}'\\nSentiment Prédit: {sentiment10}\\n\")"
   ]
  },
  {
   "cell_type": "markdown",
   "metadata": {},
   "source": [
    "# TP 01-08 et TP 01-09"
   ]
  },
  {
   "cell_type": "markdown",
   "metadata": {},
   "source": [
    "### Matrice de confusion"
   ]
  },
  {
   "cell_type": "markdown",
   "metadata": {},
   "source": [
    "Importation des fonctions de score de précision et de matrice de confusion."
   ]
  },
  {
   "cell_type": "code",
   "execution_count": 131,
   "metadata": {},
   "outputs": [],
   "source": [
    "from sklearn.metrics import confusion_matrix, ConfusionMatrixDisplay"
   ]
  },
  {
   "cell_type": "code",
   "execution_count": 132,
   "metadata": {},
   "outputs": [
    {
     "data": {
      "image/png": "[encoded data removed]",
      "text/plain": [
       "<Figure size 640x480 with 2 Axes>"
      ]
     },
     "metadata": {},
     "output_type": "display_data"
    }
   ],
   "source": [
    "# Calcul de la matrice de confusion\n",
    "mc= confusion_matrix(y_test, y_pred)\n",
    "\n",
    "# Affichage avec matplotlib\n",
    "disp = ConfusionMatrixDisplay(confusion_matrix=mc, display_labels=[\"Negative\", \"Neutral\", \"Positive\"])\n",
    "disp.plot(cmap=\"Blues\")\n",
    "plt.title(\"Matrice de Confusion\")\n",
    "plt.show()\n"
   ]
  },
  {
   "cell_type": "markdown",
   "metadata": {},
   "source": [
    "#### Interprétation: La matrice de confusion du modèle nous montre qu'il performe bien pour la prédiction de sentiment négatifs que pour la prédiction des autres sentiments(1759 comme vrais négatifs)"
   ]
  },
  {
   "cell_type": "markdown",
   "metadata": {},
   "source": [
    "### Rapport de classification"
   ]
  },
  {
   "cell_type": "code",
   "execution_count": 136,
   "metadata": {},
   "outputs": [
    {
     "name": "stdout",
     "output_type": "stream",
     "text": [
      "              precision    recall  f1-score   support\n",
      "\n",
      "           0       0.83      0.93      0.87      1889\n",
      "           1       0.65      0.49      0.56       580\n",
      "           2       0.79      0.63      0.70       459\n",
      "\n",
      "    accuracy                           0.80      2928\n",
      "   macro avg       0.76      0.68      0.71      2928\n",
      "weighted avg       0.79      0.80      0.78      2928\n",
      "\n"
     ]
    }
   ],
   "source": [
    "from sklearn.metrics import classification_report\n",
    "print(classification_report(y_test, y_pred))"
   ]
  }
 ],
 "metadata": {
  "kernelspec": {
   "display_name": "base",
   "language": "python",
   "name": "python3"
  },
  "language_info": {
   "codemirror_mode": {
    "name": "ipython",
    "version": 3
   },
   "file_extension": ".py",
   "mimetype": "text/x-python",
   "name": "python",
   "nbconvert_exporter": "python",
   "pygments_lexer": "ipython3",
   "version": "3.11.5"
  }
 },
 "nbformat": 4,
 "nbformat_minor": 2
}
